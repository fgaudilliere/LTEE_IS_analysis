{
 "cells": [
  {
   "cell_type": "code",
   "execution_count": 1,
   "metadata": {},
   "outputs": [],
   "source": [
    "from reportlab.lib import colors\n",
    "from reportlab.lib.units import cm\n",
    "from Bio.Graphics import GenomeDiagram\n",
    "from Bio import SeqIO\n",
    "from Bio.SeqFeature import SeqFeature, FeatureLocation\n",
    "from IPython.core.display import Image\n",
    "import matplotlib.pyplot as plt\n",
    "import numpy as np\n",
    "import seaborn as sns\n",
    "import pandas as pd\n",
    "import scipy.stats as stats"
   ]
  },
  {
   "cell_type": "code",
   "execution_count": 2,
   "metadata": {},
   "outputs": [],
   "source": [
    "ref = \"C:/Users/Flora/Desktop/M2 Systèmes Complexes/Stage/Bioinfo/ref/\"\n",
    "data = \"C:/Users/Flora/Desktop/M2 Systèmes Complexes/Stage/Bioinfo/LTEE-clone-curated/\"\n",
    "storage = \"C:/Users/Flora/Desktop/M2 Systèmes Complexes/Stage/Bioinfo/GenomeDiagram_tests/\""
   ]
  },
  {
   "cell_type": "code",
   "execution_count": 3,
   "metadata": {},
   "outputs": [],
   "source": [
    "from os import listdir\n",
    "from os.path import isfile, join"
   ]
  },
  {
   "cell_type": "code",
   "execution_count": 4,
   "metadata": {},
   "outputs": [],
   "source": [
    "record = SeqIO.read(ref+'REL606.gbk', 'genbank')"
   ]
  },
  {
   "cell_type": "code",
   "execution_count": 52,
   "metadata": {},
   "outputs": [],
   "source": [
    "def plot_GenomeDiagram(IS_name):\n",
    "    '''Plots the location of insertions on the genome, with insertions into a given functional category highlighted in red.'''\n",
    "    \n",
    "    len_IS = 1500 #could be changed for accuracy but not really necessary\n",
    "    \n",
    "    onlyfiles = [f for f in listdir(data) if isfile(join(data, f))] #listing all file names for the .gd files\n",
    "    files = [] # creating a list that will first contain these names to be called, and later on open .gd files\n",
    "    file_names = [] # list that will contain names as strings (kept as such for all the analysis)\n",
    "    readlines_names = [] #list that will contain lists with the lines of each file (obtained via readlines())\n",
    "    for i in onlyfiles: #fixing an error in the list of files (I don't know why it occurs) and filling the previously defined lists\n",
    "        if len(i) < 30:\n",
    "            files.append(i)\n",
    "            file_names.append(i)\n",
    "            readlines_names.append(i)\n",
    "    \n",
    "    for i in range(len(files)):\n",
    "        files[i] = open(data+files[i],\"r\") #the list files becomes a list of open files\n",
    "        readlines_names[i] = files[i].readlines() # the list readlines_names becomes a list of lists, with each list containing \n",
    "        #all the lines from one file                \n",
    "                         \n",
    "    insertion_lines = {} # Creating a dictionary to hold all the insertions found in each file\n",
    "    for file_name in file_names: # Creating one entry per file in the dictionary (an empty list)\n",
    "        insertion_lines[file_name] = []\n",
    "    for i in range(len(file_names)): # for each file\n",
    "        for line in readlines_names[i]: #we look at all the lines\n",
    "            line = line.split()\n",
    "            if 'MOB' in line: #if one line corresponds to a mutation linked to a mobile element\n",
    "                insertion_lines[file_names[i]].append(line) #we add that line to the entry of that file in the dictionary                    \n",
    "    \n",
    "    IS_lines={name:[line for line in insertion_lines[name] if line[5] == IS_name] for name in file_names}\n",
    "    \n",
    "    gd_diagram = GenomeDiagram.Diagram('REL606') #creating the diagram\n",
    "    \n",
    "    pop_names = [\"Ara+1\", \"Ara+2\", \"Ara+3\", \"Ara+4\", \"Ara+5\", \"Ara+6\",\"Ara-1\", \"Ara-2\", \"Ara-3\", \"Ara-4\", \"Ara-5\", \"Ara-6\"]\n",
    "    colors = ['firebrick', 'red', 'gold', 'chartreuse', 'mediumspringgreen', 'darkcyan', 'deepskyblue', 'blue', 'royalblue', 'navy', 'darkorchid', 'violet']\n",
    "    gd_feature_set_names = ['gd_feature_' + pop for pop in pop_names]\n",
    "    \n",
    "    gd_track_for_features_all = gd_diagram.new_track(13, name = 'Annotated Features', scale_ticks = False, scale_color = 'black') #creating a track for all insertions\n",
    "    gd_feature_set_names_all = gd_track_for_features_all.new_set() #creating a feature set\n",
    "    \n",
    "    pop_number = -1\n",
    "    \n",
    "    for pop in pop_names:\n",
    "        \n",
    "        pop_number += 1\n",
    "          \n",
    "        gd_track_for_features = gd_diagram.new_track(pop_number+1, name = 'Annotated Features', scale_ticks = False, scale_color = colors[pop_number]) #creating a track\n",
    "        gd_feature_set_names[pop_number] = gd_track_for_features.new_set() #creating a feature set\n",
    "        \n",
    "        \n",
    "        for i in range(len(file_names)):\n",
    "            \n",
    "            if pop in file_names[i]:\n",
    "\n",
    "                for IS_line in IS_lines[file_names[i]]: #for each insertion in the dictionary we generated\n",
    "                    IS_position = int(IS_line[4])\n",
    "                    position_found = False\n",
    "\n",
    "                    for feature in record.features[1:]: # we go through the features\n",
    "                        if feature.type == 'CDS': #we look at coding sequences\n",
    "                            if 'join' not in str(feature.location): #getting rid of an annoying but unique anomaly in the features\n",
    "                                start_position = int(str(feature.location).split(':')[0][1:]) #getting the start position of the CDS\n",
    "                                end_position = int(str(feature.location).split(':')[1][:-4]) #getting the end position of the CDS\n",
    "                                if IS_position >= start_position and IS_position <= end_position: # if the IS interrupts that CDS\n",
    "                                    position_found = True\n",
    "                                    gd_feature_set_names[pop_number].add_feature(feature, color = colors[pop_number], label = False)\n",
    "                                    #we add that feature to our list of features to plot\n",
    "                                    gd_feature_set_names_all.add_feature(feature, color = 'black', label = True)\n",
    "\n",
    "                    if not position_found:\n",
    "                        new_feature = SeqFeature(FeatureLocation(IS_position,IS_position+len_IS), strand=int(IS_line[6])) \n",
    "                        #if we didn't find that feature, we create one and add it in grey (intergenic regions)\n",
    "                        gd_feature_set_names[pop_number].add_feature(new_feature, color = 'grey', label = False)\n",
    "                        gd_feature_set_names_all.add_feature(new_feature, color = 'grey', label = True)\n",
    "\n",
    "\n",
    "    #drawing and saving the diagrams\n",
    "    gd_diagram.draw(format = 'circular', circular = True, pagesize = (40*cm, 44*cm), start = 0, end = len(record), circle_core = 0.2)\n",
    "    gd_diagram.write(storage+'test_GenomeDiagram'+'_'+ IS_name + '_' + 'by_pop' + '_with_general_track'+ '.pdf', 'PDF')\n",
    "    #gd_diagram.write(storage+'test_GenomeDiagram' +'_'+ IS_name+ '_' + 'by_pop' + '_no_labels'+ '.png', 'PNG')\n",
    "    #somehow there is a color problem resulting in an error for the png so I just stopped generating it, PDFs are fine\n"
   ]
  },
  {
   "cell_type": "code",
   "execution_count": 55,
   "metadata": {},
   "outputs": [],
   "source": [
    "plot_GenomeDiagram(\"IS186\")"
   ]
  },
  {
   "cell_type": "code",
   "execution_count": null,
   "metadata": {},
   "outputs": [],
   "source": []
  }
 ],
 "metadata": {
  "kernelspec": {
   "display_name": "Python 3",
   "language": "python",
   "name": "python3"
  },
  "language_info": {
   "codemirror_mode": {
    "name": "ipython",
    "version": 3
   },
   "file_extension": ".py",
   "mimetype": "text/x-python",
   "name": "python",
   "nbconvert_exporter": "python",
   "pygments_lexer": "ipython3",
   "version": "3.7.4"
  }
 },
 "nbformat": 4,
 "nbformat_minor": 4
}
