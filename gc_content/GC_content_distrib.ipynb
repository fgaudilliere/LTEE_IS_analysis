{
 "cells": [
  {
   "cell_type": "markdown",
   "metadata": {},
   "source": [
    "Aim: calculating the average GC content of ORFs into which ISs insert themselves and compare it to the average GC content of the whole genome."
   ]
  },
  {
   "cell_type": "code",
   "execution_count": 1,
   "metadata": {},
   "outputs": [],
   "source": [
    "from Bio import SeqIO\n",
    "from Bio.SeqFeature import SeqFeature, FeatureLocation\n",
    "import matplotlib.pyplot as plt\n",
    "import numpy as np\n",
    "import scipy.stats as st\n",
    "%matplotlib inline"
   ]
  },
  {
   "cell_type": "code",
   "execution_count": 2,
   "metadata": {},
   "outputs": [],
   "source": [
    "ref = \"C:/Users/Flora/Desktop/M2 Systèmes Complexes/Stage/Bioinfo/ref/\"\n",
    "data = \"C:/Users/Flora/Desktop/M2 Systèmes Complexes/Stage/Bioinfo/LTEE-clone-curated/\""
   ]
  },
  {
   "cell_type": "code",
   "execution_count": 3,
   "metadata": {},
   "outputs": [],
   "source": [
    "record = SeqIO.read(ref+'REL606.gbk', 'genbank') #loading ancestor reference file"
   ]
  },
  {
   "cell_type": "code",
   "execution_count": 4,
   "metadata": {},
   "outputs": [],
   "source": [
    "def extract_positions(IS_name):\n",
    "    '''Generates a dictionary listing the position of insertions that occured at some point in at least\n",
    "    one of the clones of one of the populations (only one occurrence per position, even if it occured\n",
    "    in different populations).'''\n",
    "    \n",
    "    from os import listdir\n",
    "    from os.path import isfile, join\n",
    "    onlyfiles = [f for f in listdir(data) if isfile(join(data, f))] #listing all file names for the .gd files\n",
    "    files = [] # creating a list that will first contain these names to be called, and later on open .gd files\n",
    "    file_names = [] # list that will contain names as strings (kept as such for all the analysis)\n",
    "    readlines_names = [] #list that will contain lists with the lines of each file (obtained via readlines())\n",
    "    for i in onlyfiles: #fixing an error in the list of files (I don't know why it occurs) and filling the previously defined lists\n",
    "        if len(i) < 30:\n",
    "            files.append(i)\n",
    "            file_names.append(i)\n",
    "            readlines_names.append(i)\n",
    "    \n",
    "    \n",
    "    for i in range(len(files)):\n",
    "        files[i] = open(data+files[i],\"r\") #the list files becomes a list of open files\n",
    "        readlines_names[i] = files[i].readlines() # the list readlines_names becomes a list of lists, with each list containing \n",
    "        #all the lines from one file\n",
    "        \n",
    "    insertion_positions = {} # Creating a dictionary to hold the positions of the insertions\n",
    "    for i in range(len(file_names)): # for each file\n",
    "        for line in readlines_names[i]: #we look at all the lines in the corresponding readlines_names entry\n",
    "            line = line.split()\n",
    "            if 'MOB' in line and IS_name in line: #if the line corresponds to a mutation linked to the IS\n",
    "                insertion_positions[line[4]] = [line[4], line[6]] #we add an entry for this IS position to our dictionary\n",
    "                # and save the orientation as well\n",
    "                # /!\\ this will erase the previous insertion if there was already an insertion at this position\n",
    "    \n",
    "    return insertion_positions\n",
    "    "
   ]
  },
  {
   "cell_type": "code",
   "execution_count": 5,
   "metadata": {},
   "outputs": [],
   "source": [
    "def calc_gc_content(sequence):\n",
    "    \"\"\"Return the % G+C content in a passed sequence.\n",
    "    Arguments:\n",
    "        - sequence  - a Bio.Seq.Seq object.\n",
    "    calc_gc_content(sequence)\n",
    "    \"\"\"\n",
    "    d = {}\n",
    "    for nt in [\"A\", \"T\", \"G\", \"C\"]:\n",
    "        d[nt] = sequence.count(nt) + sequence.count(nt.lower())\n",
    "    gc = d.get(\"G\", 0) + d.get(\"C\", 0)\n",
    "\n",
    "    if gc == 0:\n",
    "        return 0\n",
    "    # print(gc*100.0/(d['A'] +d['T'] + gc))\n",
    "    return gc * 1.0 / (d[\"A\"] + d[\"T\"] + gc)"
   ]
  },
  {
   "cell_type": "code",
   "execution_count": 6,
   "metadata": {},
   "outputs": [],
   "source": [
    "def GC_content(IS_name):\n",
    "    '''Returns a list of the GC content of CDS into which an IS has inserted.'''\n",
    "\n",
    "    positions_IS = extract_positions(IS_name) # generating a dictionary of the format {insertion_position: [position, orientation]}\n",
    "    gc_content_list = [] # initializing the GC content list\n",
    "\n",
    "    for insertion_position in list(positions_IS.keys()): #for each insertion\n",
    "        IS_position = int(insertion_position) #we get the insertion position as an integer\n",
    "        position_found = False\n",
    "\n",
    "        for feature in record.features[1:]: #for each feature in the reference genome\n",
    "            if feature.type == 'CDS': # if the feature is a coding sequence\n",
    "                if 'join' not in str(feature.location): #getting rid of an annoying but unique anomaly in the features\n",
    "                    start_position = int(str(feature.location).split(':')[0][1:]) # getting the start position of the CDS\n",
    "                    end_position = int(str(feature.location).split(':')[1][:-4]) # getting the end position of the CDS\n",
    "                    if IS_position >= start_position and IS_position <= end_position: # if the IS interrupts that CDS\n",
    "                        position_found = True\n",
    "                        gc_content = calc_gc_content(record[start_position:end_position].seq)\n",
    "                        # we calculate the GC content in the CDS\n",
    "                        gc_content_list.append(gc_content) #we save it in our list\n",
    "                    \n",
    "\n",
    "        if not position_found: # if the insertion did not take place in a CDS\n",
    "            gc_content = calc_gc_content(record[int(insertion_position)-1000:int(insertion_position)+1000].seq)\n",
    "            # we look at the 2000 bases around the insertion and we calculate the GC content\n",
    "            gc_content_list.append(gc_content) # we save the content to our list\n",
    "    \n",
    "    return gc_content_list\n"
   ]
  },
  {
   "cell_type": "code",
   "execution_count": 7,
   "metadata": {},
   "outputs": [],
   "source": [
    "# calculating the GC content of all CDS in the genome\n",
    "gc_content_CDS = []\n",
    "for feature in record.features[1:]:\n",
    "    if 'join' not in str(feature.location) and feature.type == 'CDS': #getting rid of an annoying but unique anomaly in the features\n",
    "        start_position = int(str(feature.location).split(':')[0][1:])\n",
    "        end_position = int(str(feature.location).split(':')[1][:-4])\n",
    "        gc_content = calc_gc_content(record[start_position:end_position].seq)\n",
    "        gc_content_CDS.append(gc_content)"
   ]
  },
  {
   "cell_type": "code",
   "execution_count": 8,
   "metadata": {},
   "outputs": [],
   "source": [
    "GC_content_IS150 = GC_content('IS150')"
   ]
  },
  {
   "cell_type": "code",
   "execution_count": 9,
   "metadata": {},
   "outputs": [
    {
     "data": {
      "text/plain": [
       "0.5145680072451146"
      ]
     },
     "execution_count": 9,
     "metadata": {},
     "output_type": "execute_result"
    }
   ],
   "source": [
    "sum(GC_content_IS150)/len(GC_content_IS150)"
   ]
  },
  {
   "cell_type": "code",
   "execution_count": 10,
   "metadata": {},
   "outputs": [
    {
     "data": {
      "text/plain": [
       "Text(0.5, 0, 'GC content')"
      ]
     },
     "execution_count": 10,
     "metadata": {},
     "output_type": "execute_result"
    },
    {
     "data": {
      "image/png": "[encoded data removed]",
      "text/plain": [
       "<Figure size 432x288 with 1 Axes>"
      ]
     },
     "metadata": {
      "needs_background": "light"
     },
     "output_type": "display_data"
    }
   ],
   "source": [
    "plt.hist(gc_content_CDS, density=False, bins=30)  # density=False would make counts\n",
    "plt.axvline(sum(gc_content_CDS)/len(gc_content_CDS), color='red', linewidth=1)\n",
    "plt.ylabel('Counts')\n",
    "plt.xlabel('GC content')"
   ]
  },
  {
   "cell_type": "code",
   "execution_count": 11,
   "metadata": {},
   "outputs": [
    {
     "data": {
      "text/plain": [
       "Text(0.5, 1.0, 'GC Content of Coding Sequences Interrupted by IS150')"
      ]
     },
     "execution_count": 11,
     "metadata": {},
     "output_type": "execute_result"
    },
    {
     "data": {
      "image/png": "[encoded data removed]",
      "text/plain": [
       "<Figure size 432x288 with 1 Axes>"
      ]
     },
     "metadata": {
      "needs_background": "light"
     },
     "output_type": "display_data"
    }
   ],
   "source": [
    "plt.hist(GC_content_IS150, density=True, bins=30, color = 'red', alpha = 0.7)  # density=False would make counts\n",
    "plt.hist(gc_content_CDS, density=True, bins=30, color = 'blue', alpha = 0.7)  # density=False would make counts\n",
    "plt.axvline(0.5076940489160251, color='green', linewidth=1)\n",
    "plt.axvline(sum(GC_content_IS150)/len(GC_content_IS150), color='k', linestyle='dashed', linewidth=1)\n",
    "plt.ylabel('Density')\n",
    "plt.xlabel('GC content')\n",
    "plt.title('GC Content of Coding Sequences Interrupted by IS150')"
   ]
  },
  {
   "cell_type": "code",
   "execution_count": 12,
   "metadata": {},
   "outputs": [],
   "source": [
    "GC_content_IS1 = GC_content('IS1')"
   ]
  },
  {
   "cell_type": "code",
   "execution_count": 13,
   "metadata": {},
   "outputs": [
    {
     "data": {
      "text/plain": [
       "Text(0.5, 1.0, 'GC Content of Coding Sequences Interrupted by IS1')"
      ]
     },
     "execution_count": 13,
     "metadata": {},
     "output_type": "execute_result"
    },
    {
     "data": {
      "image/png": "[encoded data removed]",
      "text/plain": [
       "<Figure size 432x288 with 1 Axes>"
      ]
     },
     "metadata": {
      "needs_background": "light"
     },
     "output_type": "display_data"
    }
   ],
   "source": [
    "plt.hist(gc_content_CDS, density=True, bins=30, color = 'blue', alpha = 0.7)  # density=False would make counts\n",
    "plt.hist(GC_content_IS1, density=True, bins=30, color = 'red', alpha = 0.7)  # density=False would make counts\n",
    "plt.axvline(0.5076940489160251, color='green', linewidth=1)\n",
    "plt.axvline(sum(GC_content_IS1)/len(GC_content_IS1), color='k', linestyle='dashed', linewidth=1)\n",
    "plt.ylabel('Density')\n",
    "plt.xlabel('GC content')\n",
    "plt.title('GC Content of Coding Sequences Interrupted by IS1')"
   ]
  },
  {
   "cell_type": "code",
   "execution_count": 14,
   "metadata": {},
   "outputs": [],
   "source": [
    "GC_content_IS186 = GC_content('IS186')"
   ]
  },
  {
   "cell_type": "code",
   "execution_count": 15,
   "metadata": {},
   "outputs": [
    {
     "data": {
      "text/plain": [
       "Text(0.5, 1.0, 'GC Content of Coding Sequences Interrupted by IS186')"
      ]
     },
     "execution_count": 15,
     "metadata": {},
     "output_type": "execute_result"
    },
    {
     "data": {
      "image/png": "[encoded data removed]",
      "text/plain": [
       "<Figure size 432x288 with 1 Axes>"
      ]
     },
     "metadata": {
      "needs_background": "light"
     },
     "output_type": "display_data"
    }
   ],
   "source": [
    "plt.hist(GC_content_IS186, density=True, bins=30, color = 'red', alpha = 0.7)  # density=False would make counts\n",
    "plt.hist(gc_content_CDS, density=True, bins=30, color = 'blue', alpha = 0.7)  # density=False would make counts\n",
    "plt.axvline(0.5076940489160251, color='green', linewidth=1)\n",
    "plt.axvline(sum(GC_content_IS186)/len(GC_content_IS186), color='k', linestyle='dashed', linewidth=1)\n",
    "plt.ylabel('Density')\n",
    "plt.xlabel('GC content')\n",
    "plt.title('GC Content of Coding Sequences Interrupted by IS186')"
   ]
  },
  {
   "cell_type": "code",
   "execution_count": 18,
   "metadata": {},
   "outputs": [],
   "source": [
    "import scipy.stats\n",
    "from scipy.stats import ttest_ind, ttest_ind_from_stats"
   ]
  },
  {
   "cell_type": "code",
   "execution_count": 22,
   "metadata": {},
   "outputs": [
    {
     "data": {
      "text/plain": [
       "5.75438263950234e-09"
      ]
     },
     "execution_count": 22,
     "metadata": {},
     "output_type": "execute_result"
    }
   ],
   "source": [
    "t, p = ttest_ind(gc_content_CDS, GC_content_IS1, equal_var=False)\n",
    "p"
   ]
  },
  {
   "cell_type": "code",
   "execution_count": 23,
   "metadata": {},
   "outputs": [
    {
     "data": {
      "text/plain": [
       "0.04199138268504423"
      ]
     },
     "execution_count": 23,
     "metadata": {},
     "output_type": "execute_result"
    }
   ],
   "source": [
    "t, p = ttest_ind(gc_content_CDS, GC_content_IS150, equal_var=False)\n",
    "p"
   ]
  },
  {
   "cell_type": "code",
   "execution_count": 24,
   "metadata": {},
   "outputs": [
    {
     "data": {
      "text/plain": [
       "0.11759152032248137"
      ]
     },
     "execution_count": 24,
     "metadata": {},
     "output_type": "execute_result"
    }
   ],
   "source": [
    "t, p = ttest_ind(gc_content_CDS, GC_content_IS186, equal_var=False)\n",
    "p"
   ]
  },
  {
   "cell_type": "code",
   "execution_count": 26,
   "metadata": {},
   "outputs": [
    {
     "data": {
      "text/plain": [
       "0.4670642469570921"
      ]
     },
     "execution_count": 26,
     "metadata": {},
     "output_type": "execute_result"
    }
   ],
   "source": [
    "sum(GC_content_IS1)/len((GC_content_IS1))"
   ]
  },
  {
   "cell_type": "code",
   "execution_count": 28,
   "metadata": {},
   "outputs": [
    {
     "data": {
      "text/plain": [
       "0.5096682165347626"
      ]
     },
     "execution_count": 28,
     "metadata": {},
     "output_type": "execute_result"
    }
   ],
   "source": [
    "sum(gc_content_CDS)/len((gc_content_CDS))"
   ]
  },
  {
   "cell_type": "code",
   "execution_count": 29,
   "metadata": {},
   "outputs": [
    {
     "data": {
      "text/plain": [
       "0.5145680072451146"
      ]
     },
     "execution_count": 29,
     "metadata": {},
     "output_type": "execute_result"
    }
   ],
   "source": [
    "sum(GC_content_IS150)/len((GC_content_IS150))"
   ]
  },
  {
   "cell_type": "code",
   "execution_count": null,
   "metadata": {},
   "outputs": [],
   "source": []
  }
 ],
 "metadata": {
  "kernelspec": {
   "display_name": "Python 3",
   "language": "python",
   "name": "python3"
  },
  "language_info": {
   "codemirror_mode": {
    "name": "ipython",
    "version": 3
   },
   "file_extension": ".py",
   "mimetype": "text/x-python",
   "name": "python",
   "nbconvert_exporter": "python",
   "pygments_lexer": "ipython3",
   "version": "3.7.4"
  }
 },
 "nbformat": 4,
 "nbformat_minor": 4
}
