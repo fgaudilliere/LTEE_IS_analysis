{
 "cells": [
  {
   "cell_type": "markdown",
   "metadata": {},
   "source": [
    "Aim: calculating the average GC content of intergenic into which ISs insert themselves and compare it to the average GC content of intergenic regions of the whole genome."
   ]
  },
  {
   "cell_type": "markdown",
   "metadata": {},
   "source": [
    "Importing necessary packages and defining paths:"
   ]
  },
  {
   "cell_type": "code",
   "execution_count": 1,
   "metadata": {},
   "outputs": [],
   "source": [
    "from Bio import SeqIO\n",
    "from Bio.SeqFeature import SeqFeature, FeatureLocation\n",
    "import matplotlib.pyplot as plt\n",
    "import numpy as np\n",
    "import scipy.stats as st\n",
    "%matplotlib inline"
   ]
  },
  {
   "cell_type": "code",
   "execution_count": 2,
   "metadata": {},
   "outputs": [],
   "source": [
    "ref = \"C:/Users/Flora/Desktop/M2 Systèmes Complexes/Stage/Bioinfo/ref/\"\n",
    "data = \"C:/Users/Flora/Desktop/M2 Systèmes Complexes/Stage/Bioinfo/LTEE-clone-curated/\""
   ]
  },
  {
   "cell_type": "markdown",
   "metadata": {},
   "source": [
    "Opening reference REL606 sequence:"
   ]
  },
  {
   "cell_type": "code",
   "execution_count": 3,
   "metadata": {},
   "outputs": [],
   "source": [
    "record = SeqIO.read(ref+'REL606.gbk', 'genbank') #loading ancestor reference file"
   ]
  },
  {
   "cell_type": "code",
   "execution_count": 4,
   "metadata": {},
   "outputs": [
    {
     "data": {
      "text/plain": [
       "4629812"
      ]
     },
     "execution_count": 4,
     "metadata": {},
     "output_type": "execute_result"
    }
   ],
   "source": [
    "len(record.seq)"
   ]
  },
  {
   "cell_type": "markdown",
   "metadata": {},
   "source": [
    "Defining function to extract IS positions: "
   ]
  },
  {
   "cell_type": "code",
   "execution_count": 5,
   "metadata": {},
   "outputs": [],
   "source": [
    "def extract_positions(IS_name):\n",
    "    '''Generates a dictionary listing the position of insertions that occured at some point in at least\n",
    "    one of the clones of one of the populations (only one occurrence per position, even if it occured\n",
    "    in different populations).'''\n",
    "\n",
    "    \n",
    "    from os import listdir\n",
    "    from os.path import isfile, join\n",
    "    onlyfiles = [f for f in listdir(data) if isfile(join(data, f))] #listing all file names for the .gd files\n",
    "    files = [] # creating a list that will first contain these names to be called, and later on open .gd files\n",
    "    file_names = [] # list that will contain names as strings (kept as such for all the analysis)\n",
    "    readlines_names = [] #list that will contain lists with the lines of each file (obtained via readlines())\n",
    "    for i in onlyfiles: #fixing an error in the list of files (I don't know why it occurs) and filling the previously defined lists\n",
    "        if len(i) < 30:\n",
    "            files.append(i)\n",
    "            file_names.append(i)\n",
    "            readlines_names.append(i)\n",
    "    \n",
    "    \n",
    "    for i in range(len(files)):\n",
    "        files[i] = open(data+files[i],\"r\") #the list files becomes a list of open files\n",
    "        readlines_names[i] = files[i].readlines() # the list readlines_names becomes a list of lists, with each list containing \n",
    "        #all the lines from one file\n",
    "    \n",
    "    \n",
    "    insertion_positions = {} # Creating a dictionary to hold the positions of the insertions\n",
    "    for i in range(len(file_names)): # for each file\n",
    "        for line in readlines_names[i]: #we look at all the lines in the corresponding readlines_names entry\n",
    "            line = line.split()\n",
    "            if 'MOB' in line and IS_name in line: #if the line corresponds to a mutation linked to the IS\n",
    "                insertion_positions[line[4]] = [line[4], line[6]] #we add an entry for this IS position to our dictionary\n",
    "                # and save the orientation as well\n",
    "                # /!\\ this will erase the previous insertion if there was already an insertion at this position\n",
    "    \n",
    "    return insertion_positions\n",
    "    "
   ]
  },
  {
   "cell_type": "markdown",
   "metadata": {},
   "source": [
    "Defining a function to calculate the GC content of a sequence:"
   ]
  },
  {
   "cell_type": "code",
   "execution_count": 6,
   "metadata": {},
   "outputs": [],
   "source": [
    "def calc_gc_content(sequence):\n",
    "    \"\"\"Return the % G+C content in a passed sequence.\n",
    "    Arguments:\n",
    "        - sequence  - a Bio.Seq.Seq object.\n",
    "    calc_gc_content(sequence)\n",
    "    \"\"\"\n",
    "    d = {}\n",
    "    for nt in [\"A\", \"T\", \"G\", \"C\"]:\n",
    "        d[nt] = sequence.count(nt) + sequence.count(nt.lower())\n",
    "    gc = d.get(\"G\", 0) + d.get(\"C\", 0)\n",
    "\n",
    "    if gc == 0:\n",
    "        return 0\n",
    "    # print(gc*100.0/(d['A'] +d['T'] + gc))\n",
    "    return gc * 1.0 / (d[\"A\"] + d[\"T\"] + gc)"
   ]
  },
  {
   "cell_type": "markdown",
   "metadata": {},
   "source": [
    "Defining a function that generates a list containing the GC content of all intergenic sequences into which an IS inserted:"
   ]
  },
  {
   "cell_type": "code",
   "execution_count": 7,
   "metadata": {},
   "outputs": [],
   "source": [
    "def GC_content(IS_name):\n",
    "    '''Returns a list containing the GC content of all intergenic sequences into which an IS inserted.'''\n",
    "\n",
    "    positions_IS = extract_positions(IS_name) # generating a dictionary of the format {insertion_position: [position, orientation]}\n",
    "    gc_content_list = [] # initializing the GC content list\n",
    "    \n",
    "    length_intergenic = []\n",
    "    \n",
    "    list_CDS = [] #generating a list of record.features indices corresponding to CDS to go around the problem of the gbk file\n",
    "    index = 1\n",
    "    for feature in record.features[1:]: #for each feature in the reference genome\n",
    "            if feature.type == 'CDS': # if the feature is a coding sequence\n",
    "                list_CDS.append(index) # we save the index in the feature list\n",
    "            index+= 1\n",
    "\n",
    "    for insertion_position in list(positions_IS.keys()): #for each insertion\n",
    "        IS_position = int(insertion_position) #we get the insertion position as an integer\n",
    "        position_found = False\n",
    "        orf_before = 0 #initializing the position of the ORF right before the insertion \n",
    "        counter = 0 # counter of where we are in the CDS list\n",
    "        counter_save = 0 #will hold the index of the closest CDS before the insertion in the list of CDSs\n",
    "        \n",
    "        for index in list_CDS: #for each CDS\n",
    "            feature = record.features[index] #we go get the feature in the record.features list\n",
    "            if 'join' not in str(feature.location): #getting rid of an annoying but unique anomaly in the features\n",
    "                start_position = int(str(feature.location).split(':')[0][1:]) # getting the start position of the CDS\n",
    "                end_position = int(str(feature.location).split(':')[1][:-4]) # getting the end position of the CDS\n",
    "                if IS_position >= end_position and orf_before < end_position: \n",
    "                    #if we found an ORF end closer to the insertion than the one saved\n",
    "                    orf_before = end_position #we save the end position of the ORF before\n",
    "                    counter_save = counter #we save the feature's position in the list of CDS indices\n",
    "                if IS_position >= start_position and IS_position <= end_position: # if the IS interrupts that CDS\n",
    "                    position_found = True\n",
    "            counter += 1\n",
    "                    \n",
    "\n",
    "        if not position_found: # if the insertion did not take place in a CDS\n",
    "            start_intergenic = orf_before+1 # the start of the intergenic sequence\n",
    "            end_intergenic = int(str(record.features[list_CDS[counter_save+1]].location).split(':')[0][1:])\n",
    "            # in the list of CDS, we take the one right after the CDS before the IS and take the beginning position\n",
    "            gc_content = calc_gc_content(record[start_intergenic:end_intergenic].seq)\n",
    "            # we take the GC content of the sequence between the two ORFs\n",
    "            gc_content_list.append(gc_content) # we save the content to our list\n",
    "            length_intergenic.append(end_intergenic-start_intergenic)\n",
    "        \n",
    "    \n",
    "    print(length_intergenic)\n",
    "    \n",
    "    return gc_content_list\n"
   ]
  },
  {
   "cell_type": "code",
   "execution_count": 8,
   "metadata": {},
   "outputs": [],
   "source": [
    "from math import floor"
   ]
  },
  {
   "cell_type": "markdown",
   "metadata": {},
   "source": [
    "Retrieving the GC content of intergenic sequences across the whole genome:"
   ]
  },
  {
   "cell_type": "code",
   "execution_count": 9,
   "metadata": {},
   "outputs": [],
   "source": [
    "list_CDS = []\n",
    "index = 1\n",
    "for feature in record.features[1:]: #for each feature in the reference genome\n",
    "        if feature.type == 'CDS': # if the feature is a coding sequence\n",
    "            list_CDS.append(index)\n",
    "        index+= 1\n",
    "\n",
    "gc_content_intergenic = []\n",
    "index_CDS_list = 0\n",
    "for index_feature in list_CDS[:-1]: #for each feature in the reference genome\n",
    "    feature = record.features[index_feature]\n",
    "    feature_next = record.features[list_CDS[index_CDS_list+1]]\n",
    "    if 'join' not in str(feature.location) and 'join' not in str(feature_next.location):\n",
    "        end_position = int(str(feature.location).split(':')[1][:-4]) # getting the end position of the CDS\n",
    "        next_CDS_start = int(str(feature_next.location).split(':')[0][1:])\n",
    "        gc_content = calc_gc_content(record[end_position:next_CDS_start].seq)\n",
    "        if gc_content != 0 and gc_content != 1:#removing cases where two ORFs are squeezed to one another\n",
    "            gc_content_intergenic.append(gc_content)\n",
    "    index_CDS_list += 1"
   ]
  },
  {
   "cell_type": "markdown",
   "metadata": {},
   "source": [
    "Plotting the distribution of GC content in intergenic sequences across the genome:"
   ]
  },
  {
   "cell_type": "code",
   "execution_count": 10,
   "metadata": {},
   "outputs": [
    {
     "data": {
      "text/plain": [
       "Text(0.5, 0, 'GC content')"
      ]
     },
     "execution_count": 10,
     "metadata": {},
     "output_type": "execute_result"
    },
    {
     "data": {
      "image/png": "[encoded data removed]",
      "text/plain": [
       "<Figure size 432x288 with 1 Axes>"
      ]
     },
     "metadata": {
      "needs_background": "light"
     },
     "output_type": "display_data"
    }
   ],
   "source": [
    "plt.hist(gc_content_intergenic, density=False, bins=30)  # density=False would make counts\n",
    "plt.axvline(sum(gc_content_intergenic)/len(gc_content_intergenic), color='red', linewidth=1)\n",
    "plt.ylabel('Counts')\n",
    "plt.xlabel('GC content')"
   ]
  },
  {
   "cell_type": "markdown",
   "metadata": {},
   "source": [
    "Calculating the GC content of intergenic sequences interrupted by IS150 insertions (and printing the length of theses intergenic sequences to check that it's consistent):"
   ]
  },
  {
   "cell_type": "code",
   "execution_count": 11,
   "metadata": {},
   "outputs": [
    {
     "name": "stdout",
     "output_type": "stream",
     "text": [
      "[528, 59, 258, 403, 339, 210, 190, 60, 600, 1543, 287, 147, 425, 46, 339, 528, 426, 63, 144, 528, 600, 426, 403, 107, 736, 528, 209, 104, 339, 125, 282, 190, 107, 89, 70, 54, 424, 210, 48, 53, 528, 46, 403, 90, 236, 389, 375, 339, 204]\n"
     ]
    }
   ],
   "source": [
    "GC_content_IS150 = GC_content('IS150')"
   ]
  },
  {
   "cell_type": "markdown",
   "metadata": {},
   "source": [
    "Comparing the distribution of GC content in intergenic regions across the genome and intergenic sequences targeted by IS150:"
   ]
  },
  {
   "cell_type": "code",
   "execution_count": 12,
   "metadata": {},
   "outputs": [
    {
     "data": {
      "image/png": "[encoded data removed]",
      "text/plain": [
       "<Figure size 432x288 with 1 Axes>"
      ]
     },
     "metadata": {
      "needs_background": "light"
     },
     "output_type": "display_data"
    }
   ],
   "source": [
    "plt.hist(gc_content_intergenic, density=True, bins=30, color = 'blue', alpha = 0.7, label = 'Genome (Intergenic)')  # density=False would make counts\n",
    "plt.hist(GC_content_IS150, density=True, bins=30, color = 'red', alpha = 0.7, label = 'IS150 Targets')  # density=False would make counts\n",
    "plt.axvline(sum(gc_content_intergenic)/len(gc_content_intergenic), color='blue', linewidth=1)\n",
    "plt.axvline(sum(GC_content_IS150)/len(GC_content_IS150), color='red', linestyle='dashed', linewidth=1)\n",
    "plt.ylabel('Density')\n",
    "plt.xlabel('GC content')\n",
    "plt.title('GC Content of IS150 Intergenic Target Sequences')\n",
    "plt.legend()\n",
    "\n",
    "plt.savefig('GC_content_IS150_intergenic.png',dpi=400)"
   ]
  },
  {
   "cell_type": "markdown",
   "metadata": {},
   "source": [
    "Calculating the GC content of intergenic sequences interrupted by IS1 insertions (and printing the length of theses intergenic sequences to check that it's consistent):"
   ]
  },
  {
   "cell_type": "code",
   "execution_count": 13,
   "metadata": {},
   "outputs": [
    {
     "name": "stdout",
     "output_type": "stream",
     "text": [
      "[191, 191, 1059, 213, 191, 845, 291, 176, 572, 182, 1670, 133, 428, 355, 365, 365, 795, 600, 217, 433, 191, 646, 329, 191, 742]\n"
     ]
    }
   ],
   "source": [
    "GC_content_IS1 = GC_content('IS1')"
   ]
  },
  {
   "cell_type": "markdown",
   "metadata": {},
   "source": [
    "Comparing the distribution of GC content in intergenic regions across the genome and intergenic sequences targeted by IS1:"
   ]
  },
  {
   "cell_type": "code",
   "execution_count": 14,
   "metadata": {},
   "outputs": [
    {
     "data": {
      "image/png": "[encoded data removed]",
      "text/plain": [
       "<Figure size 432x288 with 1 Axes>"
      ]
     },
     "metadata": {
      "needs_background": "light"
     },
     "output_type": "display_data"
    }
   ],
   "source": [
    "plt.hist(gc_content_intergenic, density=True, bins=30, color = 'blue', alpha = 0.7, label = 'Genome (Intergenic)')  # density=False would make counts\n",
    "plt.hist(GC_content_IS1, density=True, bins=30, color = 'red', alpha = 0.7, label = 'IS1 Targets')  # density=False would make counts\n",
    "\n",
    "plt.axvline(sum(gc_content_intergenic)/len(gc_content_intergenic), color='blue', linewidth=1)\n",
    "plt.axvline(sum(GC_content_IS1)/len(GC_content_IS1), color='red', linestyle='dashed', linewidth=1)\n",
    "plt.ylabel('Density')\n",
    "plt.xlabel('GC content')\n",
    "plt.legend()\n",
    "plt.title('GC Content of IS1 Intergenic Target Sequences')\n",
    "\n",
    "plt.savefig('GC_content_IS1_intergenic.png',dpi=400)"
   ]
  },
  {
   "cell_type": "markdown",
   "metadata": {},
   "source": [
    "Calculating the GC content of intergenic sequences interrupted by IS186 insertions (and printing the length of theses intergenic sequences to check that it's consistent):"
   ]
  },
  {
   "cell_type": "code",
   "execution_count": 15,
   "metadata": {},
   "outputs": [
    {
     "name": "stdout",
     "output_type": "stream",
     "text": [
      "[48, 33, 40, 40, 366, 254, 369]\n"
     ]
    }
   ],
   "source": [
    "GC_content_IS186 = GC_content('IS186')"
   ]
  },
  {
   "cell_type": "markdown",
   "metadata": {},
   "source": [
    "Comparing the distribution of GC content in intergenic regions across the genome and intergenic sequences targeted by IS186:"
   ]
  },
  {
   "cell_type": "code",
   "execution_count": 16,
   "metadata": {},
   "outputs": [
    {
     "data": {
      "image/png": "[encoded data removed]",
      "text/plain": [
       "<Figure size 432x288 with 1 Axes>"
      ]
     },
     "metadata": {
      "needs_background": "light"
     },
     "output_type": "display_data"
    }
   ],
   "source": [
    "plt.hist(gc_content_intergenic, density=True, bins=30, color = 'blue', alpha = 0.7, label = 'Genome (Intergenic)')  # density=False would make counts\n",
    "plt.hist(GC_content_IS186, density=True, bins=30, color = 'red', alpha = 0.7, label = 'IS186 Targets')  # density=False would make counts\n",
    "plt.axvline(sum(gc_content_intergenic)/len(gc_content_intergenic), color='blue', linewidth=1)\n",
    "plt.axvline(sum(GC_content_IS186)/len(GC_content_IS186), color='red', linestyle='dashed', linewidth=1)\n",
    "plt.ylabel('Density')\n",
    "plt.xlabel('GC content')\n",
    "plt.title('GC Content of IS186 Intergenic Target Sequences')\n",
    "plt.legend()\n",
    "\n",
    "plt.savefig('GC_content_IS186_intergenic.png',dpi=400)"
   ]
  },
  {
   "cell_type": "markdown",
   "metadata": {},
   "source": [
    "# Statistical tests"
   ]
  },
  {
   "cell_type": "code",
   "execution_count": 17,
   "metadata": {},
   "outputs": [],
   "source": [
    "import scipy.stats\n",
    "from scipy.stats import ttest_ind, ttest_ind_from_stats"
   ]
  },
  {
   "cell_type": "code",
   "execution_count": 18,
   "metadata": {},
   "outputs": [
    {
     "data": {
      "text/plain": [
       "0.027993646091337678"
      ]
     },
     "execution_count": 18,
     "metadata": {},
     "output_type": "execute_result"
    }
   ],
   "source": [
    "t, p = ttest_ind(gc_content_intergenic, GC_content_IS150, equal_var=False)\n",
    "p"
   ]
  },
  {
   "cell_type": "code",
   "execution_count": 19,
   "metadata": {},
   "outputs": [
    {
     "data": {
      "text/plain": [
       "1.312399311114644e-07"
      ]
     },
     "execution_count": 19,
     "metadata": {},
     "output_type": "execute_result"
    }
   ],
   "source": [
    "t, p = ttest_ind(gc_content_intergenic, GC_content_IS1, equal_var=False)\n",
    "p"
   ]
  },
  {
   "cell_type": "code",
   "execution_count": 20,
   "metadata": {},
   "outputs": [
    {
     "data": {
      "text/plain": [
       "0.30962367604302127"
      ]
     },
     "execution_count": 20,
     "metadata": {},
     "output_type": "execute_result"
    }
   ],
   "source": [
    "t, p = ttest_ind(gc_content_intergenic, GC_content_IS186, equal_var=False)\n",
    "p"
   ]
  },
  {
   "cell_type": "code",
   "execution_count": null,
   "metadata": {},
   "outputs": [],
   "source": []
  }
 ],
 "metadata": {
  "kernelspec": {
   "display_name": "Python 3",
   "language": "python",
   "name": "python3"
  },
  "language_info": {
   "codemirror_mode": {
    "name": "ipython",
    "version": 3
   },
   "file_extension": ".py",
   "mimetype": "text/x-python",
   "name": "python",
   "nbconvert_exporter": "python",
   "pygments_lexer": "ipython3",
   "version": "3.7.4"
  }
 },
 "nbformat": 4,
 "nbformat_minor": 4
}
