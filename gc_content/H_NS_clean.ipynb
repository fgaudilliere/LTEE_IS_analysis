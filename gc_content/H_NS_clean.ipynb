{
 "cells": [
  {
   "cell_type": "markdown",
   "metadata": {},
   "source": [
    "Defining pathways, importing packages, and getting reference genome sequences."
   ]
  },
  {
   "cell_type": "code",
   "execution_count": 1,
   "metadata": {},
   "outputs": [],
   "source": [
    "ref = \"C:/Users/Flora/Desktop/M2 Systèmes Complexes/Stage/Bioinfo/ref/\"\n",
    "data = \"C:/Users/Flora/Desktop/M2 Systèmes Complexes/Stage/Bioinfo/LTEE-clone-curated/\""
   ]
  },
  {
   "cell_type": "code",
   "execution_count": 2,
   "metadata": {},
   "outputs": [],
   "source": [
    "from Bio import SeqIO\n",
    "from Bio.SeqFeature import SeqFeature, FeatureLocation\n",
    "import matplotlib.pyplot as plt\n",
    "import numpy as np\n",
    "import scipy.stats as stats\n",
    "%matplotlib inline\n",
    "from math import floor"
   ]
  },
  {
   "cell_type": "code",
   "execution_count": 3,
   "metadata": {},
   "outputs": [],
   "source": [
    "seq_K12 = SeqIO.read(ref+'K12_MG1655_H-NS_paper.fasta', 'fasta')"
   ]
  },
  {
   "cell_type": "code",
   "execution_count": 4,
   "metadata": {},
   "outputs": [],
   "source": [
    "record = SeqIO.read(ref+'REL606.gbk', 'genbank') #loading ancestor reference file"
   ]
  },
  {
   "cell_type": "markdown",
   "metadata": {},
   "source": [
    "# Creating a map of putative H-NS locations in REL606 using K12 data\n",
    "(No need to re-run this part)\n",
    "\n",
    "Step 1: for each phase (S/EE/ME) we open a file containing the coordinates of the H-NS segments. We create a list containing the coordinates of each segment. For each of these segments, we then get the corresponding sequence in the K12 genome and store it in a fasta file."
   ]
  },
  {
   "cell_type": "code",
   "execution_count": 5,
   "metadata": {},
   "outputs": [],
   "source": [
    "H_NS_S = open(ref+'H-NS_S_bindingregions.txt','r')\n",
    "H_NS_S_readlines = H_NS_S.readlines()\n",
    "H_NS_S_segments = []\n",
    "for line in H_NS_S_readlines[1:]:\n",
    "    H_NS_S_segments.append(line.split())"
   ]
  },
  {
   "cell_type": "code",
   "execution_count": 6,
   "metadata": {},
   "outputs": [],
   "source": [
    "file_seq_K12_S = open('seq_H-NS_K12_S.fasta', 'w')\n",
    "for segment in H_NS_S_segments:\n",
    "    start = int(segment[0])\n",
    "    end = int(segment[1])\n",
    "    file_seq_K12_S.write('>' + '\\t' + str(start) + '\\t' + str(end) + '\\n')\n",
    "    file_seq_K12_S.write(str(seq_K12.seq[start:end]) + '\\n')\n",
    "file_seq_K12_S.close()"
   ]
  },
  {
   "cell_type": "markdown",
   "metadata": {},
   "source": [
    "The idea is then to use this file as a blast entry to search for matches in the REL606 genome using NCBI's blast tool. (Not shown here, done on their website)"
   ]
  },
  {
   "cell_type": "code",
   "execution_count": 7,
   "metadata": {},
   "outputs": [],
   "source": [
    "H_NS_EE = open(ref+'H-NS_EE_bindingregions.txt','r')\n",
    "H_NS_EE_readlines = H_NS_EE.readlines()\n",
    "H_NS_EE_segments = []\n",
    "for line in H_NS_EE_readlines[1:]:\n",
    "    H_NS_EE_segments.append(line.split())"
   ]
  },
  {
   "cell_type": "code",
   "execution_count": 8,
   "metadata": {},
   "outputs": [],
   "source": [
    "seq_K12 = SeqIO.read(ref+'K12_MG1655_H-NS_paper.fasta', 'fasta')\n",
    "file_seq_K12_EE = open('seq_H-NS_K12_EE.fasta', 'w')\n",
    "for segment in H_NS_EE_segments:\n",
    "    start = int(segment[0])\n",
    "    end = int(segment[1])\n",
    "    file_seq_K12_EE.write('>' + '\\t' + str(start) + '\\t' + str(end) + '\\n')\n",
    "    file_seq_K12_EE.write(str(seq_K12.seq[start:end]) + '\\n')\n",
    "file_seq_K12_EE.close()"
   ]
  },
  {
   "cell_type": "code",
   "execution_count": 9,
   "metadata": {},
   "outputs": [],
   "source": [
    "H_NS_ME = open(ref+'H-NS_ME_bindingregions.txt','r')\n",
    "H_NS_ME_readlines = H_NS_ME.readlines()\n",
    "H_NS_ME_segments = []\n",
    "for line in H_NS_ME_readlines[1:]:\n",
    "    H_NS_ME_segments.append(line.split())"
   ]
  },
  {
   "cell_type": "code",
   "execution_count": 10,
   "metadata": {},
   "outputs": [],
   "source": [
    "seq_K12 = SeqIO.read(ref+'K12_MG1655_H-NS_paper.fasta', 'fasta')\n",
    "file_seq_K12_ME = open('seq_H-NS_K12_ME.fasta', 'w')\n",
    "for segment in H_NS_ME_segments:\n",
    "    start = int(segment[0])\n",
    "    end = int(segment[1])\n",
    "    file_seq_K12_ME.write('>' + '\\t' + str(start) + '\\t' + str(end) + '\\n')\n",
    "    file_seq_K12_ME.write(str(seq_K12.seq[start:end]) + '\\n')\n",
    "file_seq_K12_ME.close()"
   ]
  },
  {
   "cell_type": "markdown",
   "metadata": {},
   "source": [
    "Step 2: we open the file generated with the blast (which contains, for each of the segments, the match found in REL606) and we get the coordinates of the matching segments in REL606. We save those coordinates in a file. "
   ]
  },
  {
   "cell_type": "code",
   "execution_count": 11,
   "metadata": {},
   "outputs": [],
   "source": [
    "ncbi_file_S = open(ref+'K12_to_REL606_phase_S.txt', 'r')\n",
    "readlines_ncbi_S = ncbi_file_S.readlines()\n",
    "file_fragments_REL606_S = open('fragments_REL606_S.txt', 'w')\n",
    "for line in readlines_ncbi_S:\n",
    "    if 'Range 1' in line:\n",
    "        start = line.split()[2]\n",
    "        end = line.split()[4]\n",
    "        file_fragments_REL606_S.write(start + '\\t' + end + '\\n')\n",
    "file_fragments_REL606_S.close()"
   ]
  },
  {
   "cell_type": "code",
   "execution_count": 12,
   "metadata": {},
   "outputs": [],
   "source": [
    "ncbi_file_EE = open(ref+'K12_to_REL606_phase_EE.txt', 'r')\n",
    "readlines_ncbi_EE = ncbi_file_EE.readlines()\n",
    "file_fragments_REL606_EE = open('fragments_REL606_EE.txt', 'w')\n",
    "for line in readlines_ncbi_EE:\n",
    "    if 'Range 1' in line:\n",
    "        start = line.split()[2]\n",
    "        end = line.split()[4]\n",
    "        file_fragments_REL606_EE.write(start + '\\t' + end + '\\n')\n",
    "file_fragments_REL606_EE.close()"
   ]
  },
  {
   "cell_type": "code",
   "execution_count": 13,
   "metadata": {},
   "outputs": [],
   "source": [
    "ncbi_file_ME = open(ref+'K12_to_REL606_phase_ME.txt', 'r')\n",
    "readlines_ncbi_ME = ncbi_file_ME.readlines()\n",
    "file_fragments_REL606_ME = open('fragments_REL606_ME.txt', 'w')\n",
    "for line in readlines_ncbi_ME:\n",
    "    if 'Range 1' in line:\n",
    "        start = line.split()[2]\n",
    "        end = line.split()[4]\n",
    "        file_fragments_REL606_ME.write(start + '\\t' + end + '\\n')\n",
    "file_fragments_REL606_ME.close()"
   ]
  },
  {
   "cell_type": "markdown",
   "metadata": {},
   "source": [
    "Step 3: we want to combine the data from the different phases so we don't have to do a separate analysis everytime (I checked, the results aren't that different if you do that). \n",
    "\n",
    "We start by taking one phase as a reference: let's take phase S. We open the file listing those segments and we use them in the form of a list.  "
   ]
  },
  {
   "cell_type": "code",
   "execution_count": 14,
   "metadata": {},
   "outputs": [],
   "source": [
    "H_NS_S = open('fragments_REL606_S.txt','r')\n",
    "H_NS_S_readlines = H_NS_S.readlines()\n",
    "H_NS_segments_S = []\n",
    "for line in H_NS_S_readlines:\n",
    "    H_NS_segments_S.append(line.split())"
   ]
  },
  {
   "cell_type": "code",
   "execution_count": 15,
   "metadata": {},
   "outputs": [],
   "source": [
    "for segment in H_NS_segments_S:\n",
    "    if int(segment[1]) - int(segment[0]) < 0:\n",
    "        H_NS_segments_S.remove(segment)"
   ]
  },
  {
   "cell_type": "code",
   "execution_count": 16,
   "metadata": {},
   "outputs": [],
   "source": [
    "H_NS_segments_ref = H_NS_segments_S"
   ]
  },
  {
   "cell_type": "code",
   "execution_count": 17,
   "metadata": {},
   "outputs": [
    {
     "name": "stdout",
     "output_type": "stream",
     "text": [
      "790794\n"
     ]
    }
   ],
   "source": [
    "total_length = 0\n",
    "for segment in H_NS_segments_ref:\n",
    "    start = int(segment[0])\n",
    "    end = int(segment[1])\n",
    "    if end - start < 1000000:\n",
    "        total_length += end - start\n",
    "print(total_length)"
   ]
  },
  {
   "cell_type": "markdown",
   "metadata": {},
   "source": [
    "Now that we have something to start with, we are going to add the segments from phase EE that might not be present in phase S. \n",
    "For each segment of phase EE, we look at wether it overlaps with a segment from phase S. If so and there is a part of the segment present in phase EE but not phase S, we add that part to our ref. If the segment from phase EE doesn't overlap with anything, we add it. If the segment from phase EE is already included within a segment of phase S, we do nothing. \n",
    "\n",
    "We then do the same with the segments from phase ME. "
   ]
  },
  {
   "cell_type": "code",
   "execution_count": 18,
   "metadata": {},
   "outputs": [],
   "source": [
    "H_NS_EE = open('fragments_REL606_EE.txt','r')\n",
    "H_NS_EE_readlines = H_NS_EE.readlines()\n",
    "H_NS_segments_EE = []\n",
    "for line in H_NS_EE_readlines:\n",
    "    H_NS_segments_EE.append(line.split())"
   ]
  },
  {
   "cell_type": "code",
   "execution_count": 19,
   "metadata": {},
   "outputs": [],
   "source": [
    "for segment in H_NS_segments_EE:\n",
    "    if int(segment[1]) - int(segment[0]) < 0:\n",
    "        H_NS_segments_EE.remove(segment)"
   ]
  },
  {
   "cell_type": "code",
   "execution_count": 20,
   "metadata": {},
   "outputs": [],
   "source": [
    "for segment in H_NS_segments_EE:\n",
    "    start_EE = int(segment[0])\n",
    "    end_EE = int(segment[1])\n",
    "    segment_found = False\n",
    "    for segment_ref in H_NS_segments_ref:\n",
    "        start_ref = int(segment_ref[0])\n",
    "        end_ref = int(segment_ref[1])\n",
    "        \n",
    "        if start_ref <= start_EE and end_ref <= end_EE and start_EE <= end_ref:\n",
    "            segment_found = True\n",
    "            segment_ref[1] = end_EE\n",
    "            break\n",
    "        \n",
    "        elif start_EE <= start_ref and end_EE <= end_ref and start_ref <= end_EE:\n",
    "            segment_found = True\n",
    "            segment_ref[0] = start_EE\n",
    "            break\n",
    "        \n",
    "        elif start_ref <= start_EE and end_EE <= end_ref:\n",
    "            segment_found = True\n",
    "            break\n",
    "        \n",
    "        elif start_EE <= start_ref and end_ref <= end_EE:\n",
    "            segment_found = True\n",
    "            segment_ref[0] = start_EE\n",
    "            segment_ref[1] = end_EE\n",
    "            break\n",
    "        \n",
    "    if not segment_found:\n",
    "        H_NS_segments_ref.append([start_EE, end_EE])"
   ]
  },
  {
   "cell_type": "code",
   "execution_count": 21,
   "metadata": {},
   "outputs": [],
   "source": [
    "for segment in H_NS_segments_ref:\n",
    "    if int(segment[1]) - int(segment[0]) < 0:\n",
    "        H_NS_segments_ref.remove(segment)"
   ]
  },
  {
   "cell_type": "code",
   "execution_count": 22,
   "metadata": {},
   "outputs": [
    {
     "name": "stdout",
     "output_type": "stream",
     "text": [
      "834744\n"
     ]
    }
   ],
   "source": [
    "total_length = 0\n",
    "for segment in H_NS_segments_ref:\n",
    "    start = int(segment[0])\n",
    "    end = int(segment[1])\n",
    "    if end - start < 1000000:\n",
    "        total_length += end - start\n",
    "print(total_length)"
   ]
  },
  {
   "cell_type": "code",
   "execution_count": 23,
   "metadata": {},
   "outputs": [],
   "source": [
    "H_NS_ME = open('fragments_REL606_ME.txt','r')\n",
    "H_NS_ME_readlines = H_NS_ME.readlines()\n",
    "H_NS_segments_ME = []\n",
    "for line in H_NS_ME_readlines:\n",
    "    H_NS_segments_ME.append(line.split())"
   ]
  },
  {
   "cell_type": "code",
   "execution_count": 24,
   "metadata": {},
   "outputs": [],
   "source": [
    "for segment in H_NS_segments_ME:\n",
    "    if int(segment[1]) - int(segment[0]) < 0:\n",
    "        H_NS_segments_ME.remove(segment)"
   ]
  },
  {
   "cell_type": "code",
   "execution_count": 25,
   "metadata": {},
   "outputs": [],
   "source": [
    "for segment in H_NS_segments_ME:\n",
    "    start_ME = int(segment[0])\n",
    "    end_ME = int(segment[1])\n",
    "    segment_found = False\n",
    "    for segment_ref in H_NS_segments_ref:\n",
    "        start_ref = int(segment_ref[0])\n",
    "        end_ref = int(segment_ref[1])\n",
    "        \n",
    "        if start_ref <= start_ME and end_ref <= end_ME and start_ME <= end_ref:\n",
    "            segment_found = True\n",
    "            H_NS_segments_ref.append([end_ref, end_ME])\n",
    "            break\n",
    "        \n",
    "        elif start_ME <= start_ref and end_ME <= end_ref and start_ref <= end_ME:\n",
    "            segment_found = True\n",
    "            H_NS_segments_ref.append([start_ME, start_ref])\n",
    "            break\n",
    "        \n",
    "        elif start_ref <= start_ME and end_ME <= end_ref:\n",
    "            segment_found = True\n",
    "            break\n",
    "        \n",
    "        elif start_ME <= start_ref and end_ref <= end_ME:\n",
    "            segment_found = True\n",
    "            H_NS_segments_ref.append([start_ME, start_ref])\n",
    "            H_NS_segments_ref.append([end_ref, end_ME])\n",
    "            break\n",
    "        \n",
    "    if not segment_found:\n",
    "        H_NS_segments_ref.append([start_ME, end_ME])  "
   ]
  },
  {
   "cell_type": "code",
   "execution_count": 26,
   "metadata": {},
   "outputs": [
    {
     "name": "stdout",
     "output_type": "stream",
     "text": [
      "850189\n"
     ]
    }
   ],
   "source": [
    "total_length = 0\n",
    "for segment in H_NS_segments_ref:\n",
    "    start = int(segment[0])\n",
    "    end = int(segment[1])\n",
    "    if end - start < 1000000:\n",
    "        total_length += end - start\n",
    "print(total_length)"
   ]
  },
  {
   "cell_type": "markdown",
   "metadata": {},
   "source": [
    "Now we have a reference list of putative segments on which, at some point, H-NS is found in REL606. "
   ]
  },
  {
   "cell_type": "markdown",
   "metadata": {},
   "source": [
    "# Using the generated map to see whether the AT bias is linked to the presence of H-NS"
   ]
  },
  {
   "cell_type": "markdown",
   "metadata": {},
   "source": [
    "Now we retrieve the IS1 insertion positions. "
   ]
  },
  {
   "cell_type": "code",
   "execution_count": 27,
   "metadata": {},
   "outputs": [],
   "source": [
    "def extract_positions(IS_name):\n",
    "    '''Generates a dictionary listing the position of insertions that occured at some point in at least\n",
    "    one of the clones of one of the populations (only one occurrence per position, even if it occured\n",
    "    in different populations).'''\n",
    "\n",
    "    \n",
    "    from os import listdir\n",
    "    from os.path import isfile, join\n",
    "    onlyfiles = [f for f in listdir(data) if isfile(join(data, f))] #listing all file names for the .gd files\n",
    "    files = [] # creating a list that will first contain these names to be called, and later on open .gd files\n",
    "    file_names = [] # list that will contain names as strings (kept as such for all the analysis)\n",
    "    readlines_names = [] #list that will contain lists with the lines of each file (obtained via readlines())\n",
    "    for i in onlyfiles: #fixing an error in the list of files (I don't know why it occurs) and filling the previously defined lists\n",
    "        if len(i) < 30:\n",
    "            files.append(i)\n",
    "            file_names.append(i)\n",
    "            readlines_names.append(i)\n",
    "    \n",
    "    \n",
    "    for i in range(len(files)):\n",
    "        files[i] = open(data+files[i],\"r\") #the list files becomes a list of open files\n",
    "        readlines_names[i] = files[i].readlines() # the list readlines_names becomes a list of lists, with each list containing \n",
    "        #all the lines from one file\n",
    "    \n",
    "    \n",
    "    insertion_positions = {} # Creating a dictionary to hold the positions of the insertions\n",
    "    for i in range(len(file_names)): # for each file\n",
    "        for line in readlines_names[i]: #we look at all the lines in the corresponding readlines_names entry\n",
    "            line = line.split()\n",
    "            if 'MOB' in line and IS_name in line: #if the line corresponds to a mutation linked to the IS\n",
    "                insertion_positions[line[4]] = [line[4], line[6]] #we add an entry for this IS position to our dictionary\n",
    "                # and save the orientation as well\n",
    "                # /!\\ this will erase the previous insertion if there was already an insertion at this position\n",
    "    \n",
    "    return insertion_positions\n",
    "    "
   ]
  },
  {
   "cell_type": "code",
   "execution_count": 28,
   "metadata": {},
   "outputs": [],
   "source": [
    "positions_IS1 = extract_positions('IS1')"
   ]
  },
  {
   "cell_type": "markdown",
   "metadata": {},
   "source": [
    "We also get a dedicated function to be able to compute GC content."
   ]
  },
  {
   "cell_type": "code",
   "execution_count": 29,
   "metadata": {},
   "outputs": [],
   "source": [
    "def calc_gc_content(sequence):\n",
    "    \"\"\"Return the % G+C content in a passed sequence.\n",
    "    Arguments:\n",
    "        - sequence  - a Bio.Seq.Seq object.\n",
    "    calc_gc_content(sequence)\n",
    "    \"\"\"\n",
    "    d = {}\n",
    "    for nt in [\"A\", \"T\", \"G\", \"C\"]:\n",
    "        d[nt] = sequence.count(nt) + sequence.count(nt.lower())\n",
    "    gc = d.get(\"G\", 0) + d.get(\"C\", 0)\n",
    "\n",
    "    if gc == 0:\n",
    "        return 0\n",
    "    # print(gc*100.0/(d['A'] +d['T'] + gc))\n",
    "    return gc * 1.0 / (d[\"A\"] + d[\"T\"] + gc)"
   ]
  },
  {
   "cell_type": "markdown",
   "metadata": {},
   "source": [
    "We compute the GC content in 1000 bp windows on the whole 606 genome to be able to compute a mean. "
   ]
  },
  {
   "cell_type": "code",
   "execution_count": 32,
   "metadata": {},
   "outputs": [],
   "source": [
    "# calculating the GC content of all windows of x pb in the genome\n",
    "gc_content_window = []\n",
    "length = len(record.seq)\n",
    "window = 1000\n",
    "for i in range(floor(length/window)):\n",
    "    start_pos = i*window\n",
    "    end_pos = (i+1)*window\n",
    "    gc_content = calc_gc_content(record[start_pos:end_pos].seq)\n",
    "    gc_content_window.append(gc_content)"
   ]
  },
  {
   "cell_type": "markdown",
   "metadata": {},
   "source": [
    "We use that mean to discriminate between AT-rich windows and others (AT-rich windows have a GC content below the general average). "
   ]
  },
  {
   "cell_type": "code",
   "execution_count": 33,
   "metadata": {},
   "outputs": [],
   "source": [
    "# calculating the GC content of all windows of x pb in the genome\n",
    "AT_rich_window = []\n",
    "mean_gc_genome = sum(gc_content_window)/len(gc_content_window)\n",
    "length = len(record.seq)\n",
    "window = 1000\n",
    "for i in range(floor(length/window)):\n",
    "    start_pos = i*window\n",
    "    end_pos = (i+1)*window\n",
    "    gc_content = calc_gc_content(record[start_pos:end_pos].seq)\n",
    "    if gc_content < mean_gc_genome:\n",
    "        AT_rich_window.append([start_pos, end_pos])"
   ]
  },
  {
   "cell_type": "code",
   "execution_count": 34,
   "metadata": {},
   "outputs": [
    {
     "data": {
      "text/plain": [
       "1930"
      ]
     },
     "execution_count": 34,
     "metadata": {},
     "output_type": "execute_result"
    }
   ],
   "source": [
    "len(AT_rich_window)"
   ]
  },
  {
   "cell_type": "markdown",
   "metadata": {},
   "source": [
    "We look at which windows correspond to an H-NS binding region and which don't (we give ourselves 10 pb of leeway):"
   ]
  },
  {
   "cell_type": "code",
   "execution_count": 35,
   "metadata": {},
   "outputs": [],
   "source": [
    "H_NS_window = 0\n",
    "non_H_NS_window = 0\n",
    "for window in AT_rich_window:\n",
    "    start_window = window[0]\n",
    "    end_window = window[1]\n",
    "    window_found = False\n",
    "    for segment in H_NS_segments_ref:\n",
    "        start_segment = int(segment[0])\n",
    "        end_segment = int(segment[1])\n",
    "        if start_window > start_segment-10 and end_window < end_segment+10:\n",
    "            window_found = True\n",
    "            window.append('H_NS')\n",
    "            H_NS_window += 1\n",
    "            break\n",
    "    if not window_found: \n",
    "        window.append('non_H_NS')\n",
    "        non_H_NS_window += 1"
   ]
  },
  {
   "cell_type": "code",
   "execution_count": 36,
   "metadata": {},
   "outputs": [
    {
     "name": "stdout",
     "output_type": "stream",
     "text": [
      "411\n",
      "1519\n"
     ]
    }
   ],
   "source": [
    "print(H_NS_window)\n",
    "print(non_H_NS_window)"
   ]
  },
  {
   "cell_type": "markdown",
   "metadata": {},
   "source": [
    "We then look at our IS1 insertions into AT-rich regions: is there an enrichment in H-NS binding region compared to the general distribution for AT-rich windows?"
   ]
  },
  {
   "cell_type": "code",
   "execution_count": 37,
   "metadata": {},
   "outputs": [],
   "source": [
    "IS1_H_NS = 0\n",
    "IS1_non_H_NS = 0\n",
    "for position in positions_IS1.keys():\n",
    "    position = int(position)\n",
    "    for window in AT_rich_window:\n",
    "        start = int(window[0])\n",
    "        end = int(window[1])\n",
    "        status = window[2]\n",
    "        if position >= start and position <= end:\n",
    "            if status == 'H_NS':\n",
    "                IS1_H_NS += 1\n",
    "            if status == 'non_H_NS':\n",
    "                IS1_non_H_NS += 1"
   ]
  },
  {
   "cell_type": "code",
   "execution_count": 38,
   "metadata": {},
   "outputs": [
    {
     "data": {
      "text/plain": [
       "0.21295336787564767"
      ]
     },
     "execution_count": 38,
     "metadata": {},
     "output_type": "execute_result"
    }
   ],
   "source": [
    "H_NS_window/(H_NS_window+non_H_NS_window)"
   ]
  },
  {
   "cell_type": "code",
   "execution_count": 39,
   "metadata": {},
   "outputs": [
    {
     "data": {
      "text/plain": [
       "0.3142857142857143"
      ]
     },
     "execution_count": 39,
     "metadata": {},
     "output_type": "execute_result"
    }
   ],
   "source": [
    "IS1_H_NS/(IS1_H_NS+IS1_non_H_NS)"
   ]
  },
  {
   "cell_type": "code",
   "execution_count": 40,
   "metadata": {},
   "outputs": [
    {
     "ename": "NameError",
     "evalue": "name 'stats' is not defined",
     "output_type": "error",
     "traceback": [
      "\u001b[1;31m---------------------------------------------------------------------------\u001b[0m",
      "\u001b[1;31mNameError\u001b[0m                                 Traceback (most recent call last)",
      "\u001b[1;32m<ipython-input-40-be0b993cbe8e>\u001b[0m in \u001b[0;36m<module>\u001b[1;34m\u001b[0m\n\u001b[1;32m----> 1\u001b[1;33m oddsratio, pvalue = stats.fisher_exact([[H_NS_window, non_H_NS_window],\n\u001b[0m\u001b[0;32m      2\u001b[0m                                       [IS1_H_NS, IS1_non_H_NS]])\n\u001b[0;32m      3\u001b[0m \u001b[0mpvalue\u001b[0m\u001b[1;33m\u001b[0m\u001b[1;33m\u001b[0m\u001b[0m\n",
      "\u001b[1;31mNameError\u001b[0m: name 'stats' is not defined"
     ]
    }
   ],
   "source": [
    "oddsratio, pvalue = stats.fisher_exact([[H_NS_window, non_H_NS_window],\n",
    "                                      [IS1_H_NS, IS1_non_H_NS]])\n",
    "pvalue"
   ]
  },
  {
   "cell_type": "markdown",
   "metadata": {},
   "source": [
    "Now let's check whether we still see the AT shift for IS1 insertions that insert into non H-NS binding regions (we'll compare it to all non-H-NS binding regions in the genome). "
   ]
  },
  {
   "cell_type": "code",
   "execution_count": 41,
   "metadata": {},
   "outputs": [],
   "source": [
    "# calculating the GC content of all windows of x pb in the genome\n",
    "non_H_NS_windows = []\n",
    "length = len(record.seq)\n",
    "window = 1000\n",
    "for i in range(floor(length/window)):\n",
    "    start_window = i*window\n",
    "    end_window = (i+1)*window\n",
    "    window_found = False\n",
    "    for segment in H_NS_segments_ref:\n",
    "        start_segment = int(segment[0])\n",
    "        end_segment = int(segment[1])\n",
    "        if start_window > start_segment-10 and end_window < end_segment+10:\n",
    "            window_found = True\n",
    "            break\n",
    "    if not window_found: \n",
    "        non_H_NS_windows.append([start_window, end_window]) "
   ]
  },
  {
   "cell_type": "code",
   "execution_count": 42,
   "metadata": {},
   "outputs": [
    {
     "data": {
      "text/plain": [
       "4216"
      ]
     },
     "execution_count": 42,
     "metadata": {},
     "output_type": "execute_result"
    }
   ],
   "source": [
    "len(non_H_NS_windows)"
   ]
  },
  {
   "cell_type": "code",
   "execution_count": 43,
   "metadata": {},
   "outputs": [],
   "source": [
    "gc_content_IS1 = []\n",
    "for position in positions_IS1.keys():\n",
    "    position = int(position)\n",
    "    for window in non_H_NS_windows:\n",
    "        start = int(window[0])\n",
    "        end = int(window[1])\n",
    "        if position >= start and position <= end:\n",
    "            gc_content = calc_gc_content(record[start:end].seq)\n",
    "            gc_content_IS1.append(gc_content)\n",
    "            break"
   ]
  },
  {
   "cell_type": "code",
   "execution_count": 44,
   "metadata": {},
   "outputs": [],
   "source": [
    "gc_content_non_H_NS = []\n",
    "for window in non_H_NS_windows:\n",
    "    start = int(window[0])\n",
    "    end = int(window[1])\n",
    "    gc_content = calc_gc_content(record[start:end].seq)\n",
    "    gc_content_non_H_NS.append(gc_content)"
   ]
  },
  {
   "cell_type": "code",
   "execution_count": 45,
   "metadata": {},
   "outputs": [
    {
     "data": {
      "text/plain": [
       "62"
      ]
     },
     "execution_count": 45,
     "metadata": {},
     "output_type": "execute_result"
    }
   ],
   "source": [
    "len(gc_content_IS1)"
   ]
  },
  {
   "cell_type": "code",
   "execution_count": 46,
   "metadata": {},
   "outputs": [
    {
     "data": {
      "text/plain": [
       "4216"
      ]
     },
     "execution_count": 46,
     "metadata": {},
     "output_type": "execute_result"
    }
   ],
   "source": [
    "len(gc_content_non_H_NS)"
   ]
  },
  {
   "cell_type": "code",
   "execution_count": 47,
   "metadata": {},
   "outputs": [
    {
     "data": {
      "image/png": "[encoded data removed]",
      "text/plain": [
       "<Figure size 432x288 with 1 Axes>"
      ]
     },
     "metadata": {
      "needs_background": "light"
     },
     "output_type": "display_data"
    }
   ],
   "source": [
    "plt.hist(gc_content_non_H_NS, density=True, bins=20, color = 'blue', alpha = 0.7, label = 'Genome')  # density=False would make counts\n",
    "plt.hist(gc_content_IS1, density=True, bins=20, color = 'red', alpha = 0.7, label = 'IS1')  # density=False would make counts\n",
    "\n",
    "plt.axvline(sum(gc_content_non_H_NS)/len(gc_content_non_H_NS), color='blue', linewidth=1.5)\n",
    "plt.axvline(sum(gc_content_IS1)/len(gc_content_IS1), color='red', linewidth=1.5)\n",
    "\n",
    "plt.ylabel('Density')\n",
    "plt.xlabel('GC content')\n",
    "plt.legend()\n",
    "\n",
    "plt.savefig('GC_content_IS1_no_H_NS.png',dpi=400)"
   ]
  },
  {
   "cell_type": "markdown",
   "metadata": {},
   "source": [
    "So, still a huge bias. So no, H-NS is far from being the one thing explaining IS1 AT-rich bias. "
   ]
  },
  {
   "cell_type": "markdown",
   "metadata": {},
   "source": [
    "Same thing but with another criteria for AT-rich windows: define it using a histogram of H_NS windows GC content. "
   ]
  },
  {
   "cell_type": "code",
   "execution_count": 48,
   "metadata": {},
   "outputs": [],
   "source": [
    "# calculating the GC content of all windows of x pb in the genome\n",
    "H_NS_windows = []\n",
    "non_H_NS_windows = []\n",
    "length = len(record.seq)\n",
    "window = 1000\n",
    "for i in range(floor(length/window)):\n",
    "    start_window = i*window\n",
    "    end_window = (i+1)*window\n",
    "    window_found = False\n",
    "    for segment in H_NS_segments_ref:\n",
    "        start_segment = int(segment[0])\n",
    "        end_segment = int(segment[1])\n",
    "        if start_window > start_segment-10 and end_window < end_segment+10:\n",
    "            window_found = True\n",
    "            H_NS_windows.append([start_window, end_window]) \n",
    "            break\n",
    "    if not window_found: \n",
    "        non_H_NS_windows.append([start_window, end_window]) "
   ]
  },
  {
   "cell_type": "code",
   "execution_count": 49,
   "metadata": {},
   "outputs": [],
   "source": [
    "gc_content_H_NS_windows = []\n",
    "for window in H_NS_windows:\n",
    "    start = window[0]\n",
    "    end = window[1]\n",
    "    gc_content = calc_gc_content(record[start:end].seq)\n",
    "    gc_content_H_NS_windows.append(gc_content)"
   ]
  },
  {
   "cell_type": "code",
   "execution_count": 50,
   "metadata": {},
   "outputs": [
    {
     "data": {
      "text/plain": [
       "<matplotlib.legend.Legend at 0x19ae6834d48>"
      ]
     },
     "execution_count": 50,
     "metadata": {},
     "output_type": "execute_result"
    },
    {
     "data": {
      "image/png": "[encoded data removed]",
      "text/plain": [
       "<Figure size 432x288 with 1 Axes>"
      ]
     },
     "metadata": {
      "needs_background": "light"
     },
     "output_type": "display_data"
    }
   ],
   "source": [
    "plt.hist(gc_content_window, density=True, bins=20, color = 'blue', alpha = 0.7, label = 'Genome')  # density=False would make counts\n",
    "plt.hist(gc_content_H_NS_windows, density=True, bins=20, color = 'red', alpha = 0.7, label = 'H-NS Segments')  # density=False would make counts\n",
    "\n",
    "plt.axvline(sum(gc_content_window)/len(gc_content_window), color='blue', linewidth=1.5)\n",
    "plt.axvline(sum(gc_content_H_NS_windows)/len(gc_content_H_NS_windows), color='red', linewidth=1.5)\n",
    "\n",
    "plt.ylabel('Density')\n",
    "plt.xlabel('GC content')\n",
    "plt.legend()"
   ]
  },
  {
   "cell_type": "markdown",
   "metadata": {},
   "source": [
    "Let's set the cutoff point at 0.5."
   ]
  },
  {
   "cell_type": "code",
   "execution_count": 51,
   "metadata": {},
   "outputs": [],
   "source": [
    "# calculating the GC content of all windows of x pb in the genome\n",
    "AT_rich_window = []\n",
    "mean_gc_genome = sum(gc_content_window)/len(gc_content_window)\n",
    "length = len(record.seq)\n",
    "window = 1000\n",
    "for i in range(floor(length/window)):\n",
    "    start_pos = i*window\n",
    "    end_pos = (i+1)*window\n",
    "    gc_content = calc_gc_content(record[start_pos:end_pos].seq)\n",
    "    if gc_content < 0.5:\n",
    "        AT_rich_window.append([start_pos, end_pos])"
   ]
  },
  {
   "cell_type": "code",
   "execution_count": 52,
   "metadata": {},
   "outputs": [
    {
     "data": {
      "text/plain": [
       "1593"
      ]
     },
     "execution_count": 52,
     "metadata": {},
     "output_type": "execute_result"
    }
   ],
   "source": [
    "len(AT_rich_window)"
   ]
  },
  {
   "cell_type": "code",
   "execution_count": 53,
   "metadata": {},
   "outputs": [],
   "source": [
    "H_NS_window = 0\n",
    "non_H_NS_window = 0\n",
    "for window in AT_rich_window:\n",
    "    start_window = window[0]\n",
    "    end_window = window[1]\n",
    "    window_found = False\n",
    "    for segment in H_NS_segments_ref:\n",
    "        start_segment = int(segment[0])\n",
    "        end_segment = int(segment[1])\n",
    "        if start_window > start_segment-10 and end_window < end_segment+10:\n",
    "            window_found = True\n",
    "            window.append('H_NS')\n",
    "            H_NS_window += 1\n",
    "            break\n",
    "    if not window_found: \n",
    "        window.append('non_H_NS')\n",
    "        non_H_NS_window += 1"
   ]
  },
  {
   "cell_type": "code",
   "execution_count": 54,
   "metadata": {},
   "outputs": [
    {
     "name": "stdout",
     "output_type": "stream",
     "text": [
      "403\n",
      "1190\n"
     ]
    }
   ],
   "source": [
    "print(H_NS_window)\n",
    "print(non_H_NS_window)"
   ]
  },
  {
   "cell_type": "code",
   "execution_count": 55,
   "metadata": {},
   "outputs": [],
   "source": [
    "IS1_H_NS = 0\n",
    "IS1_non_H_NS = 0\n",
    "for position in positions_IS1.keys():\n",
    "    position = int(position)\n",
    "    for window in AT_rich_window:\n",
    "        start = int(window[0])\n",
    "        end = int(window[1])\n",
    "        status = window[2]\n",
    "        if position >= start and position <= end:\n",
    "            if status == 'H_NS':\n",
    "                IS1_H_NS += 1\n",
    "            if status == 'non_H_NS':\n",
    "                IS1_non_H_NS += 1"
   ]
  },
  {
   "cell_type": "code",
   "execution_count": 56,
   "metadata": {},
   "outputs": [
    {
     "data": {
      "text/plain": [
       "0.2529817953546767"
      ]
     },
     "execution_count": 56,
     "metadata": {},
     "output_type": "execute_result"
    }
   ],
   "source": [
    "H_NS_window/(H_NS_window+non_H_NS_window)"
   ]
  },
  {
   "cell_type": "code",
   "execution_count": 57,
   "metadata": {},
   "outputs": [
    {
     "data": {
      "text/plain": [
       "0.3548387096774194"
      ]
     },
     "execution_count": 57,
     "metadata": {},
     "output_type": "execute_result"
    }
   ],
   "source": [
    "IS1_H_NS/(IS1_H_NS+IS1_non_H_NS)"
   ]
  },
  {
   "cell_type": "code",
   "execution_count": 58,
   "metadata": {},
   "outputs": [
    {
     "name": "stdout",
     "output_type": "stream",
     "text": [
      "22\n",
      "40\n"
     ]
    }
   ],
   "source": [
    "print(IS1_H_NS)\n",
    "print(IS1_non_H_NS)"
   ]
  },
  {
   "cell_type": "code",
   "execution_count": 59,
   "metadata": {},
   "outputs": [
    {
     "name": "stdout",
     "output_type": "stream",
     "text": [
      "403\n",
      "1190\n"
     ]
    }
   ],
   "source": [
    "print(H_NS_window)\n",
    "print(non_H_NS_window)"
   ]
  },
  {
   "cell_type": "code",
   "execution_count": 60,
   "metadata": {},
   "outputs": [],
   "source": [
    "import scipy.stats as stats"
   ]
  },
  {
   "cell_type": "code",
   "execution_count": 61,
   "metadata": {},
   "outputs": [
    {
     "data": {
      "text/plain": [
       "0.07634317153905203"
      ]
     },
     "execution_count": 61,
     "metadata": {},
     "output_type": "execute_result"
    }
   ],
   "source": [
    "oddsratio, pvalue = stats.fisher_exact([[22, 40],\n",
    "                                      [403, 1190]])\n",
    "pvalue"
   ]
  },
  {
   "cell_type": "code",
   "execution_count": 62,
   "metadata": {},
   "outputs": [
    {
     "data": {
      "image/png": "[encoded data removed]",
      "text/plain": [
       "<Figure size 432x288 with 1 Axes>"
      ]
     },
     "metadata": {
      "needs_background": "light"
     },
     "output_type": "display_data"
    }
   ],
   "source": [
    "# width of the bars\n",
    "barWidth = 0.04\n",
    " \n",
    "# Choose the height of the blue bars\n",
    "bars1 = [H_NS_window/(H_NS_window+non_H_NS_window), IS1_H_NS/(IS1_H_NS+IS1_non_H_NS)]\n",
    "\n",
    "# Choose the height of the error bars (bars1)\n",
    "yer1 = [0.0214, 0.1191]\n",
    "  \n",
    "# The x position of bars\n",
    "r1 = [0.1, 0.2]\n",
    " \n",
    "# Create blue bars\n",
    "plt.bar(r1, bars1, width = barWidth, color = 'black', yerr=yer1, lw=3, edgecolor = 'black', capsize=7)\n",
    "\n",
    "# general layout\n",
    "plt.xticks([0.1, 0.2], ['Genome', 'IS1 Targets'])\n",
    "plt.ylabel('Proportion of H-NS Segments Among AT-rich Segments')\n",
    "\n",
    "\n",
    "plt.savefig('H_NS_test.png')\n",
    "# Show graphic"
   ]
  },
  {
   "cell_type": "markdown",
   "metadata": {},
   "source": [
    "# Map of putative H-NS binding regions in REL606"
   ]
  },
  {
   "cell_type": "code",
   "execution_count": null,
   "metadata": {},
   "outputs": [],
   "source": [
    "%matplotlib inline\n",
    "plt.rcParams['legend.numpoints'] = 1\n",
    "plt.rcParams['figure.figsize'] = 10,10\n",
    "plt.rcParams['font.size'] = 20"
   ]
  },
  {
   "cell_type": "code",
   "execution_count": null,
   "metadata": {},
   "outputs": [],
   "source": [
    "Lg=4729599\n",
    "\n",
    "def norm_affine(v,vmin,vmax,rmin,rmax):\n",
    "    #affine transformation of a signal varying between vmin and vmax such that it ends varying between rmin and rmax\n",
    "    return rmin+(v-vmin)*(rmax-rmin)/(vmax-vmin)\n",
    "\n",
    "def genom2polarData(fi,rmin=1,rmax=1.5,L=Lg):\n",
    "    wlines=[line for line in open(fi).readlines() if line[0]!='#']\n",
    "\n",
    "    #thetas\n",
    "    positions=[float(line.split()[0]) for line in wlines]\n",
    "    thetas=[p/L*2*np.pi for p in positions]\n",
    "\n",
    "    #rs\n",
    "    values=[float(line.split()[1]) for line in wlines]\n",
    "    vmin,vmax=np.min(values),np.max(values)    \n",
    "    rs=[norm_affine(v,vmin=vmin,vmax=vmax,rmin=rmin,rmax=rmax) for v in values]    \n",
    "    \n",
    "    return thetas,rs\n",
    "\n",
    "\n",
    "def add_genomData(fi,rmin=1,rmax=1.5,L=Lg,color='C0',label=''):\n",
    "    \n",
    "    #baseline\n",
    "    thetas=np.arange(0,2*np.pi,0.01)\n",
    "    rs=np.array([rmin for t in thetas])\n",
    "    plt.plot(thetas,rs,lw=2,color=color)\n",
    "    \n",
    "    #data\n",
    "    thetas,rs=genom2polarData(fi,rmin=rmin,rmax=rmax,L=Lg)\n",
    "    plt.plot(thetas,rs,lw=2,color=color,label=label) "
   ]
  },
  {
   "cell_type": "code",
   "execution_count": null,
   "metadata": {},
   "outputs": [],
   "source": [
    "H_NS_data_list = [0 for j in range(floor(Lg/100))] #we create a list to hold the number of ISs at each position\n",
    "#(we divide the genome into chunks of 100 000 pb)\n",
    "\n",
    "for position in range(len(H_NS_data_list)):\n",
    "    position_genome_start = position*100\n",
    "    position_genome_end = (position + 1)*100\n",
    "    for segment in H_NS_segments_ref:\n",
    "        start = int(segment[0])\n",
    "        end = int(segment[1])\n",
    "        if start <= position_genome_end and position_genome_end <= end:\n",
    "            H_NS_data_list[position] = 1\n",
    "            break\n"
   ]
  },
  {
   "cell_type": "code",
   "execution_count": null,
   "metadata": {},
   "outputs": [],
   "source": [
    "H_NS_S = open('fragments_REL606_S.txt','r')\n",
    "H_NS_S_readlines = H_NS_S.readlines()\n",
    "H_NS_segments_S = []\n",
    "for line in H_NS_S_readlines:\n",
    "    H_NS_segments_S.append(line.split())\n",
    "\n",
    "    for segment in H_NS_segments_S:\n",
    "    if int(segment[1]) - int(segment[0]) < 0:\n",
    "        H_NS_segments_S.remove(segment)"
   ]
  },
  {
   "cell_type": "code",
   "execution_count": null,
   "metadata": {},
   "outputs": [],
   "source": [
    "H_NS_S_data_list = [0 for j in range(floor(Lg/100))] #we create a list to hold the number of ISs at each position\n",
    "#(we divide the genome into chunks of 100 000 pb)\n",
    "\n",
    "for position in range(len(H_NS_S_data_list)):\n",
    "    position_genome_start = position*100\n",
    "    position_genome_end = (position + 1)*100\n",
    "    for segment in H_NS_segments_S:\n",
    "        start = int(segment[0])\n",
    "        end = int(segment[1])\n",
    "        if start <= position_genome_end and position_genome_end <= end:\n",
    "            H_NS_S_data_list[position] = 1\n",
    "            break\n"
   ]
  },
  {
   "cell_type": "code",
   "execution_count": null,
   "metadata": {},
   "outputs": [],
   "source": [
    "H_NS_EE_data_list = [0 for j in range(floor(Lg/100))] #we create a list to hold the number of ISs at each position\n",
    "#(we divide the genome into chunks of 100 000 pb)\n",
    "\n",
    "for position in range(len(H_NS_EE_data_list)):\n",
    "    position_genome_start = position*100\n",
    "    position_genome_end = (position + 1)*100\n",
    "    for segment in H_NS_segments_EE:\n",
    "        start = int(segment[0])\n",
    "        end = int(segment[1])\n",
    "        if start <= position_genome_end and position_genome_end <= end:\n",
    "            H_NS_EE_data_list[position] = 1\n",
    "            break\n"
   ]
  },
  {
   "cell_type": "code",
   "execution_count": null,
   "metadata": {},
   "outputs": [],
   "source": [
    "H_NS_ME_data_list = [0 for j in range(floor(Lg/100))] #we create a list to hold the number of ISs at each position\n",
    "#(we divide the genome into chunks of 100 000 pb)\n",
    "\n",
    "for position in range(len(H_NS_ME_data_list)):\n",
    "    position_genome_start = position*100\n",
    "    position_genome_end = (position + 1)*100\n",
    "    for segment in H_NS_segments_ME:\n",
    "        start = int(segment[0])\n",
    "        end = int(segment[1])\n",
    "        if start <= position_genome_end and position_genome_end <= end:\n",
    "            H_NS_ME_data_list[position] = 1\n",
    "            break\n"
   ]
  },
  {
   "cell_type": "code",
   "execution_count": null,
   "metadata": {},
   "outputs": [],
   "source": [
    "print(H_NS_S_data_list.count(1))\n",
    "print(H_NS_EE_data_list.count(1))\n",
    "print(H_NS_ME_data_list.count(1))\n",
    "print(H_NS_data_list.count(1))"
   ]
  },
  {
   "cell_type": "code",
   "execution_count": null,
   "metadata": {},
   "outputs": [],
   "source": [
    "file_H_NS_representation = open('H_NS_segments_representation.txt', 'w')       \n",
    "for j in range(len(H_NS_data_list)):\n",
    "    pb_position = 100*j\n",
    "    file_H_NS_representation.write(str(pb_position) + \"\\t\" + \"0\" + '\\n')\n",
    "    file_H_NS_representation.write(str(pb_position + 1) + \"\\t\" + str(H_NS_data_list[j]) + '\\n')\n",
    "    file_H_NS_representation.write(str(pb_position+99) + \"\\t\" + str(H_NS_data_list[j]) + '\\n')\n",
    "file_H_NS_representation.write(\"4700000\" + \"\\t\" + \"0\" + '\\n')\n",
    "file_H_NS_representation.close()"
   ]
  },
  {
   "cell_type": "code",
   "execution_count": null,
   "metadata": {},
   "outputs": [],
   "source": [
    "file_H_NS_S_representation = open('H_NS_segments_S_representation.txt', 'w')       \n",
    "for j in range(len(H_NS_S_data_list)):\n",
    "    pb_position = 100*j\n",
    "    file_H_NS_S_representation.write(str(pb_position) + \"\\t\" + \"0\" + '\\n')\n",
    "    file_H_NS_S_representation.write(str(pb_position + 1) + \"\\t\" + str(H_NS_S_data_list[j]) + '\\n')\n",
    "    file_H_NS_S_representation.write(str(pb_position+99) + \"\\t\" + str(H_NS_S_data_list[j]) + '\\n')\n",
    "file_H_NS_S_representation.write(\"4700000\" + \"\\t\" + \"0\" + '\\n')\n",
    "file_H_NS_S_representation.close()"
   ]
  },
  {
   "cell_type": "code",
   "execution_count": null,
   "metadata": {},
   "outputs": [],
   "source": [
    "file_H_NS_EE_representation = open('H_NS_segments_EE_representation.txt', 'w')       \n",
    "for j in range(len(H_NS_EE_data_list)):\n",
    "    pb_position = 100*j\n",
    "    file_H_NS_EE_representation.write(str(pb_position) + \"\\t\" + \"0\" + '\\n')\n",
    "    file_H_NS_EE_representation.write(str(pb_position + 1) + \"\\t\" + str(H_NS_EE_data_list[j]) + '\\n')\n",
    "    file_H_NS_EE_representation.write(str(pb_position+99) + \"\\t\" + str(H_NS_EE_data_list[j]) + '\\n')\n",
    "file_H_NS_EE_representation.write(\"4700000\" + \"\\t\" + \"0\" + '\\n')\n",
    "file_H_NS_EE_representation.close()"
   ]
  },
  {
   "cell_type": "code",
   "execution_count": null,
   "metadata": {},
   "outputs": [],
   "source": [
    "file_H_NS_ME_representation = open('H_NS_segments_ME_representation.txt', 'w')       \n",
    "for j in range(len(H_NS_ME_data_list)):\n",
    "    pb_position = 100*j\n",
    "    file_H_NS_ME_representation.write(str(pb_position) + \"\\t\" + \"0\" + '\\n')\n",
    "    file_H_NS_ME_representation.write(str(pb_position + 1) + \"\\t\" + str(H_NS_ME_data_list[j]) + '\\n')\n",
    "    file_H_NS_ME_representation.write(str(pb_position+99) + \"\\t\" + str(H_NS_ME_data_list[j]) + '\\n')\n",
    "file_H_NS_ME_representation.write(\"4700000\" + \"\\t\" + \"0\" + '\\n')\n",
    "file_H_NS_ME_representation.close()"
   ]
  },
  {
   "cell_type": "code",
   "execution_count": null,
   "metadata": {},
   "outputs": [],
   "source": [
    "ax = plt.subplot(111,polar=True)\n",
    "\n",
    "add_genomData('H_NS_segments_S_representation.txt',rmin=1.5,rmax=1.6,color = \"green\", label = 'Phase S') #rmin: position of the baseline\n",
    "add_genomData('H_NS_segments_EE_representation.txt',rmin=2,rmax=2.1,color = \"blue\", label = 'Phase EE') #rmin: position of the baseline\n",
    "add_genomData('H_NS_segments_ME_representation.txt',rmin=2.5,rmax=2.6,color = \"red\", label = 'Phase ME') #rmin: position of the baseline\n",
    "add_genomData('H_NS_segments_representation.txt',rmin=3,rmax=3.1,color = \"black\", label = 'Merged') #rmin: position of the baseline\n",
    "\n",
    "\n",
    "ax.set_theta_direction(-1)\n",
    "plt.rgrids([]); plt.thetagrids([]); plt.axis('off');\n",
    "ax.set_theta_offset(np.pi/2)\n",
    "plt.legend(loc=(1.05,0))\n",
    "\n",
    "plt.title('H-NS segments')"
   ]
  }
 ],
 "metadata": {
  "kernelspec": {
   "display_name": "Python 3",
   "language": "python",
   "name": "python3"
  },
  "language_info": {
   "codemirror_mode": {
    "name": "ipython",
    "version": 3
   },
   "file_extension": ".py",
   "mimetype": "text/x-python",
   "name": "python",
   "nbconvert_exporter": "python",
   "pygments_lexer": "ipython3",
   "version": "3.7.4"
  }
 },
 "nbformat": 4,
 "nbformat_minor": 4
}
