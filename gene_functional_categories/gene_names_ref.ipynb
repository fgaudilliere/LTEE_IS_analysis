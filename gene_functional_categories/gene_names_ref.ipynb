{
 "cells": [
  {
   "cell_type": "code",
   "execution_count": 1,
   "metadata": {},
   "outputs": [],
   "source": [
    "from Bio import SeqIO\n",
    "from Bio.SeqFeature import SeqFeature, FeatureLocation"
   ]
  },
  {
   "cell_type": "code",
   "execution_count": 2,
   "metadata": {},
   "outputs": [],
   "source": [
    "ref = \"C:/Users/Flora/Desktop/M2 Systèmes Complexes/Stage/Bioinfo/ref/\"\n",
    "data = \"C:/Users/Flora/Desktop/M2 Systèmes Complexes/Stage/Bioinfo/LTEE-clone-curated/\""
   ]
  },
  {
   "cell_type": "code",
   "execution_count": 3,
   "metadata": {},
   "outputs": [],
   "source": [
    "def curate_essential_genes_list():\n",
    "    '''Generates a list of essential genes based on a file provided in Goodall et al. \n",
    "    This is necessary for further analysis of targeted gene functions.'''\n",
    "    list_essential_genes = []\n",
    "    essentiality = open('essentiality_genes.csv')\n",
    "    lines = essentiality.readlines()\n",
    "    lines = lines[2:]\n",
    "    for line in lines:\n",
    "        if line.split(',')[5] == '1':\n",
    "            list_essential_genes.append(line.split(',')[0])\n",
    "    return list_essential_genes"
   ]
  },
  {
   "cell_type": "code",
   "execution_count": 4,
   "metadata": {},
   "outputs": [],
   "source": [
    "def extract_genes_ref_genome():\n",
    "    '''This function extracts the COG classification of all genes listed in the reference file NC_012967.ptt.\n",
    "    Essential genes are excluded from the analysis.\n",
    "    A list with the corresponding letter for each gene is returned.'''\n",
    "    \n",
    "    ref_file = open(ref+'NC_012967.ptt','r')\n",
    "    ref_readlines = ref_file.readlines()\n",
    "    ref_readlines = ref_readlines[3:]\n",
    "    \n",
    "    list_genes_file = open('gene_names.txt','w')\n",
    "    \n",
    "    list_essential_genes = curate_essential_genes_list()\n",
    "\n",
    "    \n",
    "    for line in ref_readlines:\n",
    "        if line.split()[4] not in list_essential_genes:\n",
    "            list_genes_file.write(line.split()[4]+ '\\n')"
   ]
  },
  {
   "cell_type": "code",
   "execution_count": 5,
   "metadata": {},
   "outputs": [],
   "source": [
    "extract_genes_ref_genome()"
   ]
  },
  {
   "cell_type": "code",
   "execution_count": null,
   "metadata": {},
   "outputs": [],
   "source": []
  }
 ],
 "metadata": {
  "kernelspec": {
   "display_name": "Python 3",
   "language": "python",
   "name": "python3"
  },
  "language_info": {
   "codemirror_mode": {
    "name": "ipython",
    "version": 3
   },
   "file_extension": ".py",
   "mimetype": "text/x-python",
   "name": "python",
   "nbconvert_exporter": "python",
   "pygments_lexer": "ipython3",
   "version": "3.7.4"
  }
 },
 "nbformat": 4,
 "nbformat_minor": 4
}
