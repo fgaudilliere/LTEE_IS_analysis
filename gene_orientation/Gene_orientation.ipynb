{
 "cells": [
  {
   "cell_type": "markdown",
   "metadata": {},
   "source": [
    "Here, I look at ISs that inserted into a gene and look at the orientation of the gene to see whether there is a bias in the orientation of genes into which the IS inserted. The answer seems to be: no. \n",
    "Another thing I look at is whether the IS inserts in the same orientation as the CDS. Nothing to see there either, apparently. "
   ]
  },
  {
   "cell_type": "code",
   "execution_count": 1,
   "metadata": {},
   "outputs": [],
   "source": [
    "from Bio import SeqIO\n",
    "from Bio.SeqFeature import SeqFeature, FeatureLocation"
   ]
  },
  {
   "cell_type": "code",
   "execution_count": 2,
   "metadata": {},
   "outputs": [],
   "source": [
    "ref = \"C:/Users/Flora/Desktop/M2 Systèmes Complexes/Stage/Bioinfo/ref/\"\n",
    "data = \"C:/Users/Flora/Desktop/M2 Systèmes Complexes/Stage/Bioinfo/LTEE-clone-curated/\""
   ]
  },
  {
   "cell_type": "code",
   "execution_count": 3,
   "metadata": {},
   "outputs": [],
   "source": [
    "record = SeqIO.read(ref+'REL606.gbk', 'genbank') #loading ancestor reference file"
   ]
  },
  {
   "cell_type": "code",
   "execution_count": 5,
   "metadata": {},
   "outputs": [],
   "source": [
    "def extract_positions(IS_name):\n",
    "    '''Generates a dictionary listing the position of insertions that occured at some point in at least\n",
    "    one of the clones of one of the populations (only one occurrence per position, even if it occured\n",
    "    in different populations).'''\n",
    "    \n",
    "    from os import listdir #package to manage contents of a directory\n",
    "    from os.path import isfile, join\n",
    "    onlyfiles = [f for f in listdir(data) if isfile(join(data, f))] #listing all file names for the .gd files\n",
    "    files = [] # creating a list that will first contain these names to be called, and later on open .gd files\n",
    "    file_names = [] # list that will contain names as strings (kept as such for all the analysis)\n",
    "    readlines_names = [] #list that will contain lists with the lines of each file (obtained via readlines())\n",
    "    for i in onlyfiles: #fixing an error in the list of files (I don't know why it occurs) and filling the previously defined lists\n",
    "        if len(i) < 30:\n",
    "            files.append(i)\n",
    "            file_names.append(i)\n",
    "            readlines_names.append(i)\n",
    "    \n",
    "    \n",
    "    for i in range(len(files)):\n",
    "        files[i] = open(data+files[i],\"r\") #the list files becomes a list of open files\n",
    "        readlines_names[i] = files[i].readlines() # the list readlines_names becomes a list of lists, with each list containing \n",
    "        #all the lines from one file\n",
    "        \n",
    "    insertion_positions = {} # Creating a dictionary to hold the positions of the insertions\n",
    "    for i in range(len(file_names)): # for each file\n",
    "        for line in readlines_names[i]: #we look at all the lines in the corresponding readlines_names entry\n",
    "            line = line.split()\n",
    "            if 'MOB' in line and IS_name in line: #if the line corresponds to a mutation linked to the IS\n",
    "                insertion_positions[line[4]] = [line[4], line[6]] #we add an entry for this IS position to our dictionary\n",
    "                # and save the orientation as well\n",
    "                # /!\\ this will erase the previous insertion if there was already an insertion at this position\n",
    "    \n",
    "    return insertion_positions\n",
    "    "
   ]
  },
  {
   "cell_type": "code",
   "execution_count": 27,
   "metadata": {},
   "outputs": [],
   "source": [
    "def Gene_orientation(IS_name):\n",
    "    '''Looks at the orientation of genes into which an IS has inserted. Also looks at whether the IS inserted on the same\n",
    "    strand as the gene. Returns a list containing the orientation of interrupted genes and indicates the proportion of \n",
    "    common orientations between insertion and CDS.'''\n",
    "    \n",
    "    orientations = [] #initializing list to contain orientations\n",
    "    common_orientation = 0 #initializing count of common orientations\n",
    "\n",
    "    positions_IS = extract_positions(IS_name) # generating a dictionary of the format {insertion_position: [position, orientation]}\n",
    "\n",
    "    for insertion_position in list(positions_IS.keys()): #for each insertion\n",
    "        IS_position = int(insertion_position) #getting the position as an integer\n",
    "\n",
    "        for feature in record.features[1:]: # going through the list of features\n",
    "            if feature.type == 'CDS' and 'join' not in str(feature.location): \n",
    "                #looking at coding sequences and excluding a problematic location\n",
    "                start_position = int(str(feature.location).split(':')[0][1:]) #getting the start position of the feature\n",
    "                end_position = int(str(feature.location).split(':')[1][:-4]) #getting the end position of the feature\n",
    "                if IS_position >= start_position and IS_position <= end_position: #if the IS interrupted that feature\n",
    "                    orientation = feature.strand #we get the orientation of the CDS\n",
    "                    orientations.append(orientation) #we save it in our list\n",
    "                    if int(positions_IS[insertion_position][1]) == orientation: #if IS and CDS have the same orientation\n",
    "                        common_orientation += 1 #we add +1 to the count\n",
    "\n",
    "    print('Proportion of common orientations: ', common_orientation/len(orientations))\n",
    "    return orientations\n"
   ]
  },
  {
   "cell_type": "code",
   "execution_count": 28,
   "metadata": {},
   "outputs": [
    {
     "name": "stdout",
     "output_type": "stream",
     "text": [
      "Proportion of common orientations:  0.42081447963800905\n"
     ]
    }
   ],
   "source": [
    "orientations_IS150 = Gene_orientation('IS150')"
   ]
  },
  {
   "cell_type": "code",
   "execution_count": 22,
   "metadata": {},
   "outputs": [
    {
     "data": {
      "text/plain": [
       "0.5294117647058824"
      ]
     },
     "execution_count": 22,
     "metadata": {},
     "output_type": "execute_result"
    }
   ],
   "source": [
    "orientations_IS150.count(-1)/len(orientations_IS150)"
   ]
  },
  {
   "cell_type": "code",
   "execution_count": 29,
   "metadata": {},
   "outputs": [
    {
     "name": "stdout",
     "output_type": "stream",
     "text": [
      "Proportion of common orientations:  0.4406779661016949\n"
     ]
    }
   ],
   "source": [
    "orientations_IS1 = Gene_orientation('IS1')"
   ]
  },
  {
   "cell_type": "code",
   "execution_count": 19,
   "metadata": {},
   "outputs": [
    {
     "data": {
      "text/plain": [
       "0.4406779661016949"
      ]
     },
     "execution_count": 19,
     "metadata": {},
     "output_type": "execute_result"
    }
   ],
   "source": [
    "orientations_IS1.count(-1)/len(orientations_IS1)"
   ]
  },
  {
   "cell_type": "code",
   "execution_count": 30,
   "metadata": {},
   "outputs": [
    {
     "name": "stdout",
     "output_type": "stream",
     "text": [
      "Proportion of common orientations:  0.5333333333333333\n"
     ]
    }
   ],
   "source": [
    "orientations_IS186 = Gene_orientation('IS186')"
   ]
  },
  {
   "cell_type": "code",
   "execution_count": 21,
   "metadata": {},
   "outputs": [
    {
     "data": {
      "text/plain": [
       "0.4666666666666667"
      ]
     },
     "execution_count": 21,
     "metadata": {},
     "output_type": "execute_result"
    }
   ],
   "source": [
    "orientations_IS186.count(-1)/len(orientations_IS186)"
   ]
  },
  {
   "cell_type": "code",
   "execution_count": null,
   "metadata": {},
   "outputs": [],
   "source": []
  }
 ],
 "metadata": {
  "kernelspec": {
   "display_name": "Python 3",
   "language": "python",
   "name": "python3"
  },
  "language_info": {
   "codemirror_mode": {
    "name": "ipython",
    "version": 3
   },
   "file_extension": ".py",
   "mimetype": "text/x-python",
   "name": "python",
   "nbconvert_exporter": "python",
   "pygments_lexer": "ipython3",
   "version": "3.7.4"
  }
 },
 "nbformat": 4,
 "nbformat_minor": 4
}
