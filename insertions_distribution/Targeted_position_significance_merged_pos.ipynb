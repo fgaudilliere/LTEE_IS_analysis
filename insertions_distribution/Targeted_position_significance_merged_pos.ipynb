{
 "cells": [
  {
   "cell_type": "markdown",
   "metadata": {},
   "source": [
    "General idea: for insertion positions found in several populations, try and determine how many of those are significant (i.e. the position is really specifically targeted). To do this, for each population, we randomly shuffle insertion positions (using all possible positions at the scale of the whole experiment) and then plot a histogram displaying how many insertion positions are found in 1, 2, 3 etc different populations to compare it to the histogram obtained whithout shuffling the insertions. "
   ]
  },
  {
   "cell_type": "code",
   "execution_count": 1,
   "metadata": {},
   "outputs": [],
   "source": [
    "ref = \"C:/Users/Flora/Desktop/M2 Systèmes Complexes/Stage/Bioinfo/ref/\"\n",
    "data = \"C:/Users/Flora/Desktop/M2 Systèmes Complexes/Stage/Bioinfo/LTEE-clone-curated/\"\n",
    "storage = \"C:/Users/Flora/Desktop/M2 Systèmes Complexes/Stage/Bioinfo/GenomeDiagram_tests/\""
   ]
  },
  {
   "cell_type": "code",
   "execution_count": 2,
   "metadata": {},
   "outputs": [],
   "source": [
    "from os import listdir\n",
    "from os.path import isfile, join\n",
    "import random"
   ]
  },
  {
   "cell_type": "code",
   "execution_count": 3,
   "metadata": {},
   "outputs": [],
   "source": [
    "onlyfiles = [f for f in listdir(data) if isfile(join(data, f))] #listing all file names for the .gd files\n",
    "files = [] # creating a list that will first contain these names to be called, and later on open .gd files\n",
    "file_names = [] # list that will contain names as strings (kept as such for all the analysis)\n",
    "readlines_names = [] #list that will contain lists with the lines of each file (obtained via readlines())\n",
    "for i in onlyfiles: #fixing an error in the list of files (I don't know why it occurs) and filling the previously defined lists\n",
    "    if len(i) < 30:\n",
    "        files.append(i)\n",
    "        file_names.append(i)\n",
    "        readlines_names.append(i)"
   ]
  },
  {
   "cell_type": "code",
   "execution_count": 4,
   "metadata": {},
   "outputs": [],
   "source": [
    "IS_name = 'IS1'"
   ]
  },
  {
   "cell_type": "code",
   "execution_count": 5,
   "metadata": {},
   "outputs": [],
   "source": [
    "for i in range(len(files)):\n",
    "    files[i] = open(data+files[i],\"r\") #the list files becomes a list of open files\n",
    "    readlines_names[i] = files[i].readlines() # the list readlines_names becomes a list of lists, with each list containing \n",
    "    #all the lines from one file\n",
    "\n",
    "insertion_lines = {} # Creating a dictionary to hold all the insertions found in each file\n",
    "for file_name in file_names: # Creating one entry per file in the dictionary (an empty list)\n",
    "    insertion_lines[file_name] = []\n",
    "for i in range(len(file_names)): # for each file\n",
    "    for line in readlines_names[i]: #we look at all the lines\n",
    "        line = line.split()\n",
    "        if 'MOB' in line: #if one line corresponds to a mutation linked to a mobile element\n",
    "            insertion_lines[file_names[i]].append(line) #we add that line to the entry of that file in the dictionary                    \n",
    "\n",
    "IS_lines={name:[line for line in insertion_lines[name] if line[5] == IS_name] for name in file_names}"
   ]
  },
  {
   "cell_type": "code",
   "execution_count": 6,
   "metadata": {},
   "outputs": [],
   "source": [
    "pop_names = [\"Ara+1\", \"Ara+2\", \"Ara+3\", \"Ara+4\", \"Ara+5\", \"Ara+6\",\"Ara-1\", \"Ara-2\", \"Ara-3\", \"Ara-4\", \"Ara-5\", \"Ara-6\"]"
   ]
  },
  {
   "cell_type": "code",
   "execution_count": 7,
   "metadata": {},
   "outputs": [],
   "source": [
    "list_all_possible_pos = []\n",
    "list_insertions_by_pop = {}\n",
    "for pop in pop_names:\n",
    "    list_insertions_by_pop[pop] = []\n",
    "    for i in range(len(file_names)):\n",
    "        if pop in file_names[i]:\n",
    "                for IS_line in IS_lines[file_names[i]]: #for each insertion in the dictionary we generated\n",
    "                    IS_position = int(IS_line[4])\n",
    "                    list_all_possible_pos.append(IS_position)\n",
    "                    list_insertions_by_pop[pop].append(IS_position)\n",
    "    list_insertions_by_pop[pop] = list(set(list_insertions_by_pop[pop]))\n",
    "list_all_possible_pos = list(set(list_all_possible_pos))"
   ]
  },
  {
   "cell_type": "code",
   "execution_count": 8,
   "metadata": {},
   "outputs": [],
   "source": [
    "number_of_ins = []\n",
    "for position in list_all_possible_pos:\n",
    "    number_of_occurrences = 0\n",
    "    for pop in list_insertions_by_pop.keys():\n",
    "        for pop_insertion in list_insertions_by_pop[pop]:\n",
    "            if position == pop_insertion:\n",
    "                number_of_occurrences += 1\n",
    "    number_of_ins.append(number_of_occurrences)   \n",
    "    if number_of_occurrences > 4:\n",
    "        print('number of occurrences: ', number_of_occurrences)\n",
    "        print('position: ', position)"
   ]
  },
  {
   "cell_type": "code",
   "execution_count": 9,
   "metadata": {},
   "outputs": [],
   "source": [
    "import matplotlib.pyplot as plt\n",
    "import numpy as np\n",
    "import scipy.stats as st\n",
    "%matplotlib inline"
   ]
  },
  {
   "cell_type": "code",
   "execution_count": 10,
   "metadata": {},
   "outputs": [
    {
     "data": {
      "text/plain": [
       "Text(0.5, 0, 'Number of independent occurrences')"
      ]
     },
     "execution_count": 10,
     "metadata": {},
     "output_type": "execute_result"
    },
    {
     "data": {
      "image/png": "[encoded data removed]",
      "text/plain": [
       "<Figure size 432x288 with 1 Axes>"
      ]
     },
     "metadata": {
      "needs_background": "light"
     },
     "output_type": "display_data"
    }
   ],
   "source": [
    "plt.hist(number_of_ins, density=False, bins=30)  # density=False would make counts\n",
    "plt.ylabel('Counts')\n",
    "plt.xlabel('Number of independent occurrences')"
   ]
  },
  {
   "cell_type": "code",
   "execution_count": 11,
   "metadata": {},
   "outputs": [],
   "source": [
    "def count_dictionary(dictionary, value):\n",
    "    count = 0\n",
    "    for key in dictionary.keys():\n",
    "        for item in dictionary[key]:\n",
    "            if item == value:\n",
    "                count += 1\n",
    "    return count"
   ]
  },
  {
   "cell_type": "code",
   "execution_count": 12,
   "metadata": {},
   "outputs": [],
   "source": [
    "list_all_possible_pos.sort()"
   ]
  },
  {
   "cell_type": "markdown",
   "metadata": {},
   "source": [
    "Trimming the list of possible positions to merge close positions: we keep the max when positions are close."
   ]
  },
  {
   "cell_type": "code",
   "execution_count": 13,
   "metadata": {},
   "outputs": [],
   "source": [
    "list_fusions = []\n",
    "for position_1 in list_all_possible_pos:\n",
    "    for position_2 in list_all_possible_pos:\n",
    "        if position_1 != position_2:\n",
    "            if max(position_1, position_2) - min(position_1, position_2) <= 10:\n",
    "                #print('position 1: ', position_1)\n",
    "                #print('position 2: ', position_2)\n",
    "                list_all_possible_pos.remove(min(position_1, position_2))\n",
    "                fusion_found = False\n",
    "                for fusion in list_fusions:\n",
    "                    if position_1 in fusion or position_2 in fusion:\n",
    "                        #print('added ', max(position_1, position_2), ' to ', fusion)\n",
    "                        fusion.append(max(position_1, position_2))\n",
    "                        fusion_found = True\n",
    "                        break\n",
    "                if not fusion_found:\n",
    "                    list_fusions.append([min(position_1, position_2), max(position_1, position_2)])\n",
    "                    #print('created fusion list ', min(position_1, position_2), max(position_1, position_2))"
   ]
  },
  {
   "cell_type": "code",
   "execution_count": 14,
   "metadata": {},
   "outputs": [],
   "source": [
    "for pop in list_insertions_by_pop.keys():\n",
    "    for pop_insertion in [i for i in list_insertions_by_pop[pop]]:\n",
    "        for fusion in list_fusions:\n",
    "            if pop_insertion in fusion and pop_insertion != fusion[-1]:\n",
    "                #print('insertion position ', pop_insertion, ' found in ', fusion)\n",
    "                list_insertions_by_pop[pop].remove(pop_insertion)\n",
    "                list_insertions_by_pop[pop].append(fusion[-1])\n",
    "                #print('added ', fusion[-1])\n",
    "                break"
   ]
  },
  {
   "cell_type": "code",
   "execution_count": 15,
   "metadata": {},
   "outputs": [],
   "source": [
    "number_of_ins = []\n",
    "for position in list_all_possible_pos:\n",
    "    number_of_occurrences = 0\n",
    "    for pop in list_insertions_by_pop.keys():\n",
    "        for pop_insertion in list_insertions_by_pop[pop]:\n",
    "            if position == pop_insertion:\n",
    "                number_of_occurrences += 1\n",
    "    number_of_ins.append(number_of_occurrences)   \n",
    "    if number_of_occurrences > 4:\n",
    "        print('number of occurrences: ', number_of_occurrences)\n",
    "        print('position: ', position)"
   ]
  },
  {
   "cell_type": "code",
   "execution_count": 16,
   "metadata": {},
   "outputs": [],
   "source": [
    "list_insertions_by_pop_shuffle = list_insertions_by_pop"
   ]
  },
  {
   "cell_type": "code",
   "execution_count": 17,
   "metadata": {},
   "outputs": [],
   "source": [
    "all_simulations = []\n",
    "for i in range(100):\n",
    "    for pop in list_insertions_by_pop_shuffle.keys():\n",
    "        for position in list_insertions_by_pop_shuffle[pop]:\n",
    "            new_pos = random.choice(list_all_possible_pos)\n",
    "            if count_dictionary(list_insertions_by_pop_shuffle, position) > 1:\n",
    "                list_insertions_by_pop_shuffle[pop].remove(position)\n",
    "                list_insertions_by_pop_shuffle[pop].append(new_pos)\n",
    "    number_of_ins_simulation = []\n",
    "    for position in list_all_possible_pos:\n",
    "        number_of_occurrences = 0\n",
    "        for pop in list_insertions_by_pop_shuffle.keys():\n",
    "            for pop_insertion in list_insertions_by_pop_shuffle[pop]:\n",
    "                if position == pop_insertion:\n",
    "                    number_of_occurrences += 1\n",
    "        number_of_ins_simulation.append(number_of_occurrences)   \n",
    "    for n in number_of_ins_simulation:\n",
    "        all_simulations.append(n)\n",
    "\n",
    "simulation = []\n",
    "for i in range(1,11):\n",
    "    n = all_simulations.count(i)\n",
    "    mean_occurrences = round(n/100)\n",
    "    for j in range(mean_occurrences):\n",
    "        simulation.append(i)"
   ]
  },
  {
   "cell_type": "code",
   "execution_count": 18,
   "metadata": {},
   "outputs": [
    {
     "data": {
      "image/png": "[encoded data removed]",
      "text/plain": [
       "<Figure size 432x288 with 1 Axes>"
      ]
     },
     "metadata": {
      "needs_background": "light"
     },
     "output_type": "display_data"
    }
   ],
   "source": [
    "# width of the bars\n",
    "barWidth = 0.3\n",
    " \n",
    "# Choose the height of the blue bars\n",
    "bars1 = [simulation.count(i) for i in range(1,11)]\n",
    " \n",
    "# Choose the height of the cyan bars\n",
    "bars2 = [number_of_ins.count(i) for i in range(1,11)]\n",
    " \n",
    "# The x position of bars\n",
    "r1 = [i for i in range(1,11)]\n",
    "r2 = [x + barWidth for x in r1]\n",
    " \n",
    "# Create blue bars\n",
    "plt.bar(r1, bars1, width = barWidth, color = 'blue', edgecolor = 'black', label='Neutral Model')\n",
    " \n",
    "# Create cyan bars\n",
    "plt.bar(r2, bars2, width = barWidth, color = 'red', edgecolor = 'black', label='Data')\n",
    " \n",
    "# general layout\n",
    "plt.xticks([r + barWidth for r in r1], ['1', '2', '3', '4', '5', '6', '7', '8', '9', '10'])\n",
    "plt.ylabel('Counts')\n",
    "plt.xlabel('Number of independent occurrences')\n",
    "plt.yscale('log')\n",
    "plt.legend()\n",
    " \n",
    "plt.savefig('significance_targeted_positions_merged_close_IS1.png', dpi = 300)"
   ]
  },
  {
   "cell_type": "code",
   "execution_count": null,
   "metadata": {},
   "outputs": [],
   "source": []
  }
 ],
 "metadata": {
  "kernelspec": {
   "display_name": "Python 3",
   "language": "python",
   "name": "python3"
  },
  "language_info": {
   "codemirror_mode": {
    "name": "ipython",
    "version": 3
   },
   "file_extension": ".py",
   "mimetype": "text/x-python",
   "name": "python",
   "nbconvert_exporter": "python",
   "pygments_lexer": "ipython3",
   "version": "3.7.4"
  }
 },
 "nbformat": 4,
 "nbformat_minor": 4
}
